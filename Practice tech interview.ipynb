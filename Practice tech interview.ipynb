{
    "metadata": {
        "kernelspec": {
            "name": "SQL",
            "display_name": "SQL",
            "language": "sql"
        },
        "language_info": {
            "name": "sql",
            "version": ""
        }
    },
    "nbformat_minor": 2,
    "nbformat": 4,
    "cells": [
        {
            "cell_type": "code",
            "source": [
                "USE BooksDB\r\n",
                "SELECT t.TABLE_CATALOG,t.TABLE_SCHEMA,t.TABLE_NAME,c.COLUMN_NAME,c.ORDINAL_POSITION,c.DATA_TYPE,c.CHARACTER_MAXIMUM_LENGTH,n.CONSTRAINT_TYPE,k2.TABLE_SCHEMA,k2.TABLE_NAME,k2.COLUMN_NAME\r\n",
                "FROM INFORMATION_SCHEMA.TABLES t\r\n",
                "LEFT JOIN INFORMATION_SCHEMA.COLUMNS c\r\n",
                "    ON t.TABLE_CATALOG=c.TABLE_CATALOG\r\n",
                "        AND t.TABLE_SCHEMA=c.TABLE_SCHEMA\r\n",
                "        AND t.TABLE_NAME=c.TABLE_NAME LEFT JOIN(INFORMATION_SCHEMA.KEY_COLUMN_USAGE k\r\n",
                "JOIN INFORMATION_SCHEMA.TABLE_CONSTRAINTS n\r\n",
                "    ON k.CONSTRAINT_CATALOG=n.CONSTRAINT_CATALOG\r\n",
                "        AND k.CONSTRAINT_SCHEMA=n.CONSTRAINT_SCHEMA\r\n",
                "        AND k.CONSTRAINT_NAME=n.CONSTRAINT_NAME\r\n",
                "LEFT JOIN INFORMATION_SCHEMA.REFERENTIAL_CONSTRAINTS r\r\n",
                "    ON k.CONSTRAINT_CATALOG=r.CONSTRAINT_CATALOG\r\n",
                "        AND k.CONSTRAINT_SCHEMA=r.CONSTRAINT_SCHEMA\r\n",
                "        AND k.CONSTRAINT_NAME=r.CONSTRAINT_NAME)ON c.TABLE_CATALOG=k.TABLE_CATALOG\r\n",
                "        AND c.TABLE_SCHEMA=k.TABLE_SCHEMA\r\n",
                "        AND c.TABLE_NAME=k.TABLE_NAME\r\n",
                "        AND c.COLUMN_NAME=k.COLUMN_NAME\r\n",
                "LEFT JOIN INFORMATION_SCHEMA.KEY_COLUMN_USAGE k2\r\n",
                "    ON k.ORDINAL_POSITION=k2.ORDINAL_POSITION\r\n",
                "        AND r.UNIQUE_CONSTRAINT_CATALOG=k2.CONSTRAINT_CATALOG\r\n",
                "        AND r.UNIQUE_CONSTRAINT_SCHEMA=k2.CONSTRAINT_SCHEMA\r\n",
                "        AND r.UNIQUE_CONSTRAINT_NAME=k2.CONSTRAINT_NAME\r\n",
                "WHERE t.TABLE_TYPE='BASE TABLE';"
            ],
            "metadata": {
                "azdata_cell_guid": "9f730dd0-6671-4c2f-8306-d76145745838",
                "language": "sql"
            },
            "outputs": [
                {
                    "output_type": "display_data",
                    "data": {
                        "text/html": "(33 rows affected)"
                    },
                    "metadata": {}
                },
                {
                    "output_type": "display_data",
                    "data": {
                        "text/html": "Total execution time: 00:00:01.107"
                    },
                    "metadata": {}
                },
                {
                    "output_type": "execute_result",
                    "metadata": {},
                    "execution_count": 1,
                    "data": {
                        "application/vnd.dataresource+json": {
                            "schema": {
                                "fields": [
                                    {
                                        "name": "TABLE_CATALOG"
                                    },
                                    {
                                        "name": "TABLE_SCHEMA"
                                    },
                                    {
                                        "name": "TABLE_NAME"
                                    },
                                    {
                                        "name": "COLUMN_NAME"
                                    },
                                    {
                                        "name": "ORDINAL_POSITION"
                                    },
                                    {
                                        "name": "DATA_TYPE"
                                    },
                                    {
                                        "name": "CHARACTER_MAXIMUM_LENGTH"
                                    },
                                    {
                                        "name": "CONSTRAINT_TYPE"
                                    },
                                    {
                                        "name": "TABLE_SCHEMA"
                                    },
                                    {
                                        "name": "TABLE_NAME"
                                    },
                                    {
                                        "name": "COLUMN_NAME"
                                    }
                                ]
                            },
                            "data": [
                                {
                                    "0": "BooksDB",
                                    "1": "dbo",
                                    "2": "tags",
                                    "3": "tag_id",
                                    "4": "1",
                                    "5": "bigint",
                                    "6": "NULL",
                                    "7": "PRIMARY KEY",
                                    "8": "NULL",
                                    "9": "NULL",
                                    "10": "NULL"
                                },
                                {
                                    "0": "BooksDB",
                                    "1": "dbo",
                                    "2": "tags",
                                    "3": "tag_name",
                                    "4": "2",
                                    "5": "nvarchar",
                                    "6": "50",
                                    "7": "NULL",
                                    "8": "NULL",
                                    "9": "NULL",
                                    "10": "NULL"
                                },
                                {
                                    "0": "BooksDB",
                                    "1": "dbo",
                                    "2": "books",
                                    "3": "id",
                                    "4": "1",
                                    "5": "bigint",
                                    "6": "NULL",
                                    "7": "NULL",
                                    "8": "NULL",
                                    "9": "NULL",
                                    "10": "NULL"
                                },
                                {
                                    "0": "BooksDB",
                                    "1": "dbo",
                                    "2": "books",
                                    "3": "book_id",
                                    "4": "2",
                                    "5": "bigint",
                                    "6": "NULL",
                                    "7": "NULL",
                                    "8": "NULL",
                                    "9": "NULL",
                                    "10": "NULL"
                                },
                                {
                                    "0": "BooksDB",
                                    "1": "dbo",
                                    "2": "books",
                                    "3": "best_book_id",
                                    "4": "3",
                                    "5": "bigint",
                                    "6": "NULL",
                                    "7": "NULL",
                                    "8": "NULL",
                                    "9": "NULL",
                                    "10": "NULL"
                                },
                                {
                                    "0": "BooksDB",
                                    "1": "dbo",
                                    "2": "books",
                                    "3": "work_id",
                                    "4": "4",
                                    "5": "int",
                                    "6": "NULL",
                                    "7": "NULL",
                                    "8": "NULL",
                                    "9": "NULL",
                                    "10": "NULL"
                                },
                                {
                                    "0": "BooksDB",
                                    "1": "dbo",
                                    "2": "books",
                                    "3": "books_count",
                                    "4": "5",
                                    "5": "smallint",
                                    "6": "NULL",
                                    "7": "NULL",
                                    "8": "NULL",
                                    "9": "NULL",
                                    "10": "NULL"
                                },
                                {
                                    "0": "BooksDB",
                                    "1": "dbo",
                                    "2": "books",
                                    "3": "isbn",
                                    "4": "6",
                                    "5": "nvarchar",
                                    "6": "50",
                                    "7": "NULL",
                                    "8": "NULL",
                                    "9": "NULL",
                                    "10": "NULL"
                                },
                                {
                                    "0": "BooksDB",
                                    "1": "dbo",
                                    "2": "books",
                                    "3": "isbn13",
                                    "4": "7",
                                    "5": "float",
                                    "6": "NULL",
                                    "7": "NULL",
                                    "8": "NULL",
                                    "9": "NULL",
                                    "10": "NULL"
                                },
                                {
                                    "0": "BooksDB",
                                    "1": "dbo",
                                    "2": "books",
                                    "3": "authors",
                                    "4": "8",
                                    "5": "nvarchar",
                                    "6": "-1",
                                    "7": "NULL",
                                    "8": "NULL",
                                    "9": "NULL",
                                    "10": "NULL"
                                },
                                {
                                    "0": "BooksDB",
                                    "1": "dbo",
                                    "2": "books",
                                    "3": "original_publication_year",
                                    "4": "9",
                                    "5": "float",
                                    "6": "NULL",
                                    "7": "NULL",
                                    "8": "NULL",
                                    "9": "NULL",
                                    "10": "NULL"
                                },
                                {
                                    "0": "BooksDB",
                                    "1": "dbo",
                                    "2": "books",
                                    "3": "original_title",
                                    "4": "10",
                                    "5": "nvarchar",
                                    "6": "-1",
                                    "7": "NULL",
                                    "8": "NULL",
                                    "9": "NULL",
                                    "10": "NULL"
                                },
                                {
                                    "0": "BooksDB",
                                    "1": "dbo",
                                    "2": "books",
                                    "3": "title",
                                    "4": "11",
                                    "5": "nvarchar",
                                    "6": "-1",
                                    "7": "NULL",
                                    "8": "NULL",
                                    "9": "NULL",
                                    "10": "NULL"
                                },
                                {
                                    "0": "BooksDB",
                                    "1": "dbo",
                                    "2": "books",
                                    "3": "language_code",
                                    "4": "12",
                                    "5": "nvarchar",
                                    "6": "50",
                                    "7": "NULL",
                                    "8": "NULL",
                                    "9": "NULL",
                                    "10": "NULL"
                                },
                                {
                                    "0": "BooksDB",
                                    "1": "dbo",
                                    "2": "books",
                                    "3": "average_rating",
                                    "4": "13",
                                    "5": "float",
                                    "6": "NULL",
                                    "7": "NULL",
                                    "8": "NULL",
                                    "9": "NULL",
                                    "10": "NULL"
                                },
                                {
                                    "0": "BooksDB",
                                    "1": "dbo",
                                    "2": "books",
                                    "3": "ratings_count",
                                    "4": "14",
                                    "5": "int",
                                    "6": "NULL",
                                    "7": "NULL",
                                    "8": "NULL",
                                    "9": "NULL",
                                    "10": "NULL"
                                },
                                {
                                    "0": "BooksDB",
                                    "1": "dbo",
                                    "2": "books",
                                    "3": "work_ratings_count",
                                    "4": "15",
                                    "5": "int",
                                    "6": "NULL",
                                    "7": "NULL",
                                    "8": "NULL",
                                    "9": "NULL",
                                    "10": "NULL"
                                },
                                {
                                    "0": "BooksDB",
                                    "1": "dbo",
                                    "2": "books",
                                    "3": "work_text_reviews_count",
                                    "4": "16",
                                    "5": "int",
                                    "6": "NULL",
                                    "7": "NULL",
                                    "8": "NULL",
                                    "9": "NULL",
                                    "10": "NULL"
                                },
                                {
                                    "0": "BooksDB",
                                    "1": "dbo",
                                    "2": "books",
                                    "3": "ratings_1",
                                    "4": "17",
                                    "5": "int",
                                    "6": "NULL",
                                    "7": "NULL",
                                    "8": "NULL",
                                    "9": "NULL",
                                    "10": "NULL"
                                },
                                {
                                    "0": "BooksDB",
                                    "1": "dbo",
                                    "2": "books",
                                    "3": "ratings_2",
                                    "4": "18",
                                    "5": "int",
                                    "6": "NULL",
                                    "7": "NULL",
                                    "8": "NULL",
                                    "9": "NULL",
                                    "10": "NULL"
                                },
                                {
                                    "0": "BooksDB",
                                    "1": "dbo",
                                    "2": "books",
                                    "3": "ratings_3",
                                    "4": "19",
                                    "5": "int",
                                    "6": "NULL",
                                    "7": "NULL",
                                    "8": "NULL",
                                    "9": "NULL",
                                    "10": "NULL"
                                },
                                {
                                    "0": "BooksDB",
                                    "1": "dbo",
                                    "2": "books",
                                    "3": "ratings_4",
                                    "4": "20",
                                    "5": "int",
                                    "6": "NULL",
                                    "7": "NULL",
                                    "8": "NULL",
                                    "9": "NULL",
                                    "10": "NULL"
                                },
                                {
                                    "0": "BooksDB",
                                    "1": "dbo",
                                    "2": "books",
                                    "3": "ratings_5",
                                    "4": "21",
                                    "5": "int",
                                    "6": "NULL",
                                    "7": "NULL",
                                    "8": "NULL",
                                    "9": "NULL",
                                    "10": "NULL"
                                },
                                {
                                    "0": "BooksDB",
                                    "1": "dbo",
                                    "2": "books",
                                    "3": "image_url",
                                    "4": "22",
                                    "5": "nvarchar",
                                    "6": "100",
                                    "7": "NULL",
                                    "8": "NULL",
                                    "9": "NULL",
                                    "10": "NULL"
                                },
                                {
                                    "0": "BooksDB",
                                    "1": "dbo",
                                    "2": "books",
                                    "3": "small_image_url",
                                    "4": "23",
                                    "5": "nvarchar",
                                    "6": "100",
                                    "7": "NULL",
                                    "8": "NULL",
                                    "9": "NULL",
                                    "10": "NULL"
                                },
                                {
                                    "0": "BooksDB",
                                    "1": "dbo",
                                    "2": "ratings",
                                    "3": "book_id",
                                    "4": "1",
                                    "5": "bigint",
                                    "6": "NULL",
                                    "7": "NULL",
                                    "8": "NULL",
                                    "9": "NULL",
                                    "10": "NULL"
                                },
                                {
                                    "0": "BooksDB",
                                    "1": "dbo",
                                    "2": "ratings",
                                    "3": "user_id",
                                    "4": "2",
                                    "5": "bigint",
                                    "6": "NULL",
                                    "7": "NULL",
                                    "8": "NULL",
                                    "9": "NULL",
                                    "10": "NULL"
                                },
                                {
                                    "0": "BooksDB",
                                    "1": "dbo",
                                    "2": "ratings",
                                    "3": "rating",
                                    "4": "3",
                                    "5": "bigint",
                                    "6": "NULL",
                                    "7": "NULL",
                                    "8": "NULL",
                                    "9": "NULL",
                                    "10": "NULL"
                                },
                                {
                                    "0": "BooksDB",
                                    "1": "dbo",
                                    "2": "to_read",
                                    "3": "user_id",
                                    "4": "1",
                                    "5": "bigint",
                                    "6": "NULL",
                                    "7": "NULL",
                                    "8": "NULL",
                                    "9": "NULL",
                                    "10": "NULL"
                                },
                                {
                                    "0": "BooksDB",
                                    "1": "dbo",
                                    "2": "to_read",
                                    "3": "book_id",
                                    "4": "2",
                                    "5": "bigint",
                                    "6": "NULL",
                                    "7": "NULL",
                                    "8": "NULL",
                                    "9": "NULL",
                                    "10": "NULL"
                                },
                                {
                                    "0": "BooksDB",
                                    "1": "dbo",
                                    "2": "book_tags",
                                    "3": "goodreads_book_id",
                                    "4": "1",
                                    "5": "bigint",
                                    "6": "NULL",
                                    "7": "NULL",
                                    "8": "NULL",
                                    "9": "NULL",
                                    "10": "NULL"
                                },
                                {
                                    "0": "BooksDB",
                                    "1": "dbo",
                                    "2": "book_tags",
                                    "3": "tag_id",
                                    "4": "2",
                                    "5": "bigint",
                                    "6": "NULL",
                                    "7": "NULL",
                                    "8": "NULL",
                                    "9": "NULL",
                                    "10": "NULL"
                                },
                                {
                                    "0": "BooksDB",
                                    "1": "dbo",
                                    "2": "book_tags",
                                    "3": "count",
                                    "4": "3",
                                    "5": "bigint",
                                    "6": "NULL",
                                    "7": "NULL",
                                    "8": "NULL",
                                    "9": "NULL",
                                    "10": "NULL"
                                }
                            ]
                        },
                        "text/html": [
                            "<table>",
                            "<tr><th>TABLE_CATALOG</th><th>TABLE_SCHEMA</th><th>TABLE_NAME</th><th>COLUMN_NAME</th><th>ORDINAL_POSITION</th><th>DATA_TYPE</th><th>CHARACTER_MAXIMUM_LENGTH</th><th>CONSTRAINT_TYPE</th><th>TABLE_SCHEMA</th><th>TABLE_NAME</th><th>COLUMN_NAME</th></tr>",
                            "<tr><td>BooksDB</td><td>dbo</td><td>tags</td><td>tag_id</td><td>1</td><td>bigint</td><td>NULL</td><td>PRIMARY KEY</td><td>NULL</td><td>NULL</td><td>NULL</td></tr>",
                            "<tr><td>BooksDB</td><td>dbo</td><td>tags</td><td>tag_name</td><td>2</td><td>nvarchar</td><td>50</td><td>NULL</td><td>NULL</td><td>NULL</td><td>NULL</td></tr>",
                            "<tr><td>BooksDB</td><td>dbo</td><td>books</td><td>id</td><td>1</td><td>bigint</td><td>NULL</td><td>NULL</td><td>NULL</td><td>NULL</td><td>NULL</td></tr>",
                            "<tr><td>BooksDB</td><td>dbo</td><td>books</td><td>book_id</td><td>2</td><td>bigint</td><td>NULL</td><td>NULL</td><td>NULL</td><td>NULL</td><td>NULL</td></tr>",
                            "<tr><td>BooksDB</td><td>dbo</td><td>books</td><td>best_book_id</td><td>3</td><td>bigint</td><td>NULL</td><td>NULL</td><td>NULL</td><td>NULL</td><td>NULL</td></tr>",
                            "<tr><td>BooksDB</td><td>dbo</td><td>books</td><td>work_id</td><td>4</td><td>int</td><td>NULL</td><td>NULL</td><td>NULL</td><td>NULL</td><td>NULL</td></tr>",
                            "<tr><td>BooksDB</td><td>dbo</td><td>books</td><td>books_count</td><td>5</td><td>smallint</td><td>NULL</td><td>NULL</td><td>NULL</td><td>NULL</td><td>NULL</td></tr>",
                            "<tr><td>BooksDB</td><td>dbo</td><td>books</td><td>isbn</td><td>6</td><td>nvarchar</td><td>50</td><td>NULL</td><td>NULL</td><td>NULL</td><td>NULL</td></tr>",
                            "<tr><td>BooksDB</td><td>dbo</td><td>books</td><td>isbn13</td><td>7</td><td>float</td><td>NULL</td><td>NULL</td><td>NULL</td><td>NULL</td><td>NULL</td></tr>",
                            "<tr><td>BooksDB</td><td>dbo</td><td>books</td><td>authors</td><td>8</td><td>nvarchar</td><td>-1</td><td>NULL</td><td>NULL</td><td>NULL</td><td>NULL</td></tr>",
                            "<tr><td>BooksDB</td><td>dbo</td><td>books</td><td>original_publication_year</td><td>9</td><td>float</td><td>NULL</td><td>NULL</td><td>NULL</td><td>NULL</td><td>NULL</td></tr>",
                            "<tr><td>BooksDB</td><td>dbo</td><td>books</td><td>original_title</td><td>10</td><td>nvarchar</td><td>-1</td><td>NULL</td><td>NULL</td><td>NULL</td><td>NULL</td></tr>",
                            "<tr><td>BooksDB</td><td>dbo</td><td>books</td><td>title</td><td>11</td><td>nvarchar</td><td>-1</td><td>NULL</td><td>NULL</td><td>NULL</td><td>NULL</td></tr>",
                            "<tr><td>BooksDB</td><td>dbo</td><td>books</td><td>language_code</td><td>12</td><td>nvarchar</td><td>50</td><td>NULL</td><td>NULL</td><td>NULL</td><td>NULL</td></tr>",
                            "<tr><td>BooksDB</td><td>dbo</td><td>books</td><td>average_rating</td><td>13</td><td>float</td><td>NULL</td><td>NULL</td><td>NULL</td><td>NULL</td><td>NULL</td></tr>",
                            "<tr><td>BooksDB</td><td>dbo</td><td>books</td><td>ratings_count</td><td>14</td><td>int</td><td>NULL</td><td>NULL</td><td>NULL</td><td>NULL</td><td>NULL</td></tr>",
                            "<tr><td>BooksDB</td><td>dbo</td><td>books</td><td>work_ratings_count</td><td>15</td><td>int</td><td>NULL</td><td>NULL</td><td>NULL</td><td>NULL</td><td>NULL</td></tr>",
                            "<tr><td>BooksDB</td><td>dbo</td><td>books</td><td>work_text_reviews_count</td><td>16</td><td>int</td><td>NULL</td><td>NULL</td><td>NULL</td><td>NULL</td><td>NULL</td></tr>",
                            "<tr><td>BooksDB</td><td>dbo</td><td>books</td><td>ratings_1</td><td>17</td><td>int</td><td>NULL</td><td>NULL</td><td>NULL</td><td>NULL</td><td>NULL</td></tr>",
                            "<tr><td>BooksDB</td><td>dbo</td><td>books</td><td>ratings_2</td><td>18</td><td>int</td><td>NULL</td><td>NULL</td><td>NULL</td><td>NULL</td><td>NULL</td></tr>",
                            "<tr><td>BooksDB</td><td>dbo</td><td>books</td><td>ratings_3</td><td>19</td><td>int</td><td>NULL</td><td>NULL</td><td>NULL</td><td>NULL</td><td>NULL</td></tr>",
                            "<tr><td>BooksDB</td><td>dbo</td><td>books</td><td>ratings_4</td><td>20</td><td>int</td><td>NULL</td><td>NULL</td><td>NULL</td><td>NULL</td><td>NULL</td></tr>",
                            "<tr><td>BooksDB</td><td>dbo</td><td>books</td><td>ratings_5</td><td>21</td><td>int</td><td>NULL</td><td>NULL</td><td>NULL</td><td>NULL</td><td>NULL</td></tr>",
                            "<tr><td>BooksDB</td><td>dbo</td><td>books</td><td>image_url</td><td>22</td><td>nvarchar</td><td>100</td><td>NULL</td><td>NULL</td><td>NULL</td><td>NULL</td></tr>",
                            "<tr><td>BooksDB</td><td>dbo</td><td>books</td><td>small_image_url</td><td>23</td><td>nvarchar</td><td>100</td><td>NULL</td><td>NULL</td><td>NULL</td><td>NULL</td></tr>",
                            "<tr><td>BooksDB</td><td>dbo</td><td>ratings</td><td>book_id</td><td>1</td><td>bigint</td><td>NULL</td><td>NULL</td><td>NULL</td><td>NULL</td><td>NULL</td></tr>",
                            "<tr><td>BooksDB</td><td>dbo</td><td>ratings</td><td>user_id</td><td>2</td><td>bigint</td><td>NULL</td><td>NULL</td><td>NULL</td><td>NULL</td><td>NULL</td></tr>",
                            "<tr><td>BooksDB</td><td>dbo</td><td>ratings</td><td>rating</td><td>3</td><td>bigint</td><td>NULL</td><td>NULL</td><td>NULL</td><td>NULL</td><td>NULL</td></tr>",
                            "<tr><td>BooksDB</td><td>dbo</td><td>to_read</td><td>user_id</td><td>1</td><td>bigint</td><td>NULL</td><td>NULL</td><td>NULL</td><td>NULL</td><td>NULL</td></tr>",
                            "<tr><td>BooksDB</td><td>dbo</td><td>to_read</td><td>book_id</td><td>2</td><td>bigint</td><td>NULL</td><td>NULL</td><td>NULL</td><td>NULL</td><td>NULL</td></tr>",
                            "<tr><td>BooksDB</td><td>dbo</td><td>book_tags</td><td>goodreads_book_id</td><td>1</td><td>bigint</td><td>NULL</td><td>NULL</td><td>NULL</td><td>NULL</td><td>NULL</td></tr>",
                            "<tr><td>BooksDB</td><td>dbo</td><td>book_tags</td><td>tag_id</td><td>2</td><td>bigint</td><td>NULL</td><td>NULL</td><td>NULL</td><td>NULL</td><td>NULL</td></tr>",
                            "<tr><td>BooksDB</td><td>dbo</td><td>book_tags</td><td>count</td><td>3</td><td>bigint</td><td>NULL</td><td>NULL</td><td>NULL</td><td>NULL</td><td>NULL</td></tr>",
                            "</table>"
                        ]
                    }
                }
            ],
            "execution_count": 1
        },
        {
            "cell_type": "code",
            "source": [
                "USE BooksDB\r\n",
                "SELECT TOP 20 authors 'AUTHORS' FROM books"
            ],
            "metadata": {
                "azdata_cell_guid": "a0d0b2ac-302f-4965-86a0-5f8e2ed90353",
                "language": "sql"
            },
            "outputs": [
                {
                    "output_type": "display_data",
                    "data": {
                        "text/html": "(20 rows affected)"
                    },
                    "metadata": {}
                },
                {
                    "output_type": "display_data",
                    "data": {
                        "text/html": "Total execution time: 00:00:00.087"
                    },
                    "metadata": {}
                },
                {
                    "output_type": "execute_result",
                    "metadata": {},
                    "execution_count": 3,
                    "data": {
                        "application/vnd.dataresource+json": {
                            "schema": {
                                "fields": [
                                    {
                                        "name": "AUTHORS"
                                    }
                                ]
                            },
                            "data": [
                                {
                                    "0": "Suzanne Collins"
                                },
                                {
                                    "0": "J.K. Rowling, Mary GrandPré"
                                },
                                {
                                    "0": "Stephenie Meyer"
                                },
                                {
                                    "0": "Harper Lee"
                                },
                                {
                                    "0": "F. Scott Fitzgerald"
                                },
                                {
                                    "0": "John Green"
                                },
                                {
                                    "0": "J.R.R. Tolkien"
                                },
                                {
                                    "0": "J.D. Salinger"
                                },
                                {
                                    "0": "Dan Brown"
                                },
                                {
                                    "0": "Jane Austen"
                                },
                                {
                                    "0": "Khaled Hosseini"
                                },
                                {
                                    "0": "Veronica Roth"
                                },
                                {
                                    "0": "George Orwell, Erich Fromm, Celâl Üster"
                                },
                                {
                                    "0": "George Orwell"
                                },
                                {
                                    "0": "Anne Frank, Eleanor Roosevelt, B.M. Mooyaart-Doubleday"
                                },
                                {
                                    "0": "Stieg Larsson, Reg Keeland"
                                },
                                {
                                    "0": "Suzanne Collins"
                                },
                                {
                                    "0": "J.K. Rowling, Mary GrandPré, Rufus Beck"
                                },
                                {
                                    "0": "J.R.R. Tolkien"
                                },
                                {
                                    "0": "Suzanne Collins"
                                }
                            ]
                        },
                        "text/html": [
                            "<table>",
                            "<tr><th>AUTHORS</th></tr>",
                            "<tr><td>Suzanne Collins</td></tr>",
                            "<tr><td>J.K. Rowling, Mary GrandPré</td></tr>",
                            "<tr><td>Stephenie Meyer</td></tr>",
                            "<tr><td>Harper Lee</td></tr>",
                            "<tr><td>F. Scott Fitzgerald</td></tr>",
                            "<tr><td>John Green</td></tr>",
                            "<tr><td>J.R.R. Tolkien</td></tr>",
                            "<tr><td>J.D. Salinger</td></tr>",
                            "<tr><td>Dan Brown</td></tr>",
                            "<tr><td>Jane Austen</td></tr>",
                            "<tr><td>Khaled Hosseini</td></tr>",
                            "<tr><td>Veronica Roth</td></tr>",
                            "<tr><td>George Orwell, Erich Fromm, Celâl Üster</td></tr>",
                            "<tr><td>George Orwell</td></tr>",
                            "<tr><td>Anne Frank, Eleanor Roosevelt, B.M. Mooyaart-Doubleday</td></tr>",
                            "<tr><td>Stieg Larsson, Reg Keeland</td></tr>",
                            "<tr><td>Suzanne Collins</td></tr>",
                            "<tr><td>J.K. Rowling, Mary GrandPré, Rufus Beck</td></tr>",
                            "<tr><td>J.R.R. Tolkien</td></tr>",
                            "<tr><td>Suzanne Collins</td></tr>",
                            "</table>"
                        ]
                    }
                }
            ],
            "execution_count": 3
        },
        {
            "cell_type": "code",
            "source": [
                "USE BooksDB\r\n",
                "SELECT TOP 10 UPPER(authors) AS 'UPPERCASE AUTHOR NAMES' FROM books"
            ],
            "metadata": {
                "language": "sql",
                "azdata_cell_guid": "6fb3b77e-1c8c-4ac2-98f0-ccc964fde363"
            },
            "outputs": [
                {
                    "output_type": "display_data",
                    "data": {
                        "text/html": "(10 rows affected)"
                    },
                    "metadata": {}
                },
                {
                    "output_type": "display_data",
                    "data": {
                        "text/html": "Total execution time: 00:00:00.072"
                    },
                    "metadata": {}
                },
                {
                    "output_type": "execute_result",
                    "metadata": {},
                    "execution_count": 4,
                    "data": {
                        "application/vnd.dataresource+json": {
                            "schema": {
                                "fields": [
                                    {
                                        "name": "UPPERCASE AUTHOR NAMES"
                                    }
                                ]
                            },
                            "data": [
                                {
                                    "0": "SUZANNE COLLINS"
                                },
                                {
                                    "0": "J.K. ROWLING, MARY GRANDPRÉ"
                                },
                                {
                                    "0": "STEPHENIE MEYER"
                                },
                                {
                                    "0": "HARPER LEE"
                                },
                                {
                                    "0": "F. SCOTT FITZGERALD"
                                },
                                {
                                    "0": "JOHN GREEN"
                                },
                                {
                                    "0": "J.R.R. TOLKIEN"
                                },
                                {
                                    "0": "J.D. SALINGER"
                                },
                                {
                                    "0": "DAN BROWN"
                                },
                                {
                                    "0": "JANE AUSTEN"
                                }
                            ]
                        },
                        "text/html": [
                            "<table>",
                            "<tr><th>UPPERCASE AUTHOR NAMES</th></tr>",
                            "<tr><td>SUZANNE COLLINS</td></tr>",
                            "<tr><td>J.K. ROWLING, MARY GRANDPRÉ</td></tr>",
                            "<tr><td>STEPHENIE MEYER</td></tr>",
                            "<tr><td>HARPER LEE</td></tr>",
                            "<tr><td>F. SCOTT FITZGERALD</td></tr>",
                            "<tr><td>JOHN GREEN</td></tr>",
                            "<tr><td>J.R.R. TOLKIEN</td></tr>",
                            "<tr><td>J.D. SALINGER</td></tr>",
                            "<tr><td>DAN BROWN</td></tr>",
                            "<tr><td>JANE AUSTEN</td></tr>",
                            "</table>"
                        ]
                    }
                }
            ],
            "execution_count": 4
        },
        {
            "cell_type": "code",
            "source": [
                "USE BooksDB\r\n",
                "SELECT DISTINCT language_code AS 'DISTINCT LANGUAGE CODES' FROM books"
            ],
            "metadata": {
                "language": "sql",
                "azdata_cell_guid": "3491ee12-7046-4823-b880-c9750eff723a"
            },
            "outputs": [
                {
                    "output_type": "display_data",
                    "data": {
                        "text/html": "(26 rows affected)"
                    },
                    "metadata": {}
                },
                {
                    "output_type": "display_data",
                    "data": {
                        "text/html": "Total execution time: 00:00:00.083"
                    },
                    "metadata": {}
                },
                {
                    "output_type": "execute_result",
                    "metadata": {},
                    "execution_count": 5,
                    "data": {
                        "application/vnd.dataresource+json": {
                            "schema": {
                                "fields": [
                                    {
                                        "name": "DISTINCT LANGUAGE CODES"
                                    }
                                ]
                            },
                            "data": [
                                {
                                    "0": "jpn"
                                },
                                {
                                    "0": "dan"
                                },
                                {
                                    "0": "fre"
                                },
                                {
                                    "0": "ita"
                                },
                                {
                                    "0": "ara"
                                },
                                {
                                    "0": "tur"
                                },
                                {
                                    "0": "NULL"
                                },
                                {
                                    "0": "mul"
                                },
                                {
                                    "0": "nl"
                                },
                                {
                                    "0": "eng"
                                },
                                {
                                    "0": "pol"
                                },
                                {
                                    "0": "en-GB"
                                },
                                {
                                    "0": "en-CA"
                                },
                                {
                                    "0": "rus"
                                },
                                {
                                    "0": "rum"
                                },
                                {
                                    "0": "en"
                                },
                                {
                                    "0": "swe"
                                },
                                {
                                    "0": "vie"
                                },
                                {
                                    "0": "ind"
                                },
                                {
                                    "0": "por"
                                },
                                {
                                    "0": "per"
                                },
                                {
                                    "0": "ger"
                                },
                                {
                                    "0": "en-US"
                                },
                                {
                                    "0": "nor"
                                },
                                {
                                    "0": "spa"
                                },
                                {
                                    "0": "fil"
                                }
                            ]
                        },
                        "text/html": [
                            "<table>",
                            "<tr><th>DISTINCT LANGUAGE CODES</th></tr>",
                            "<tr><td>jpn</td></tr>",
                            "<tr><td>dan</td></tr>",
                            "<tr><td>fre</td></tr>",
                            "<tr><td>ita</td></tr>",
                            "<tr><td>ara</td></tr>",
                            "<tr><td>tur</td></tr>",
                            "<tr><td>NULL</td></tr>",
                            "<tr><td>mul</td></tr>",
                            "<tr><td>nl</td></tr>",
                            "<tr><td>eng</td></tr>",
                            "<tr><td>pol</td></tr>",
                            "<tr><td>en-GB</td></tr>",
                            "<tr><td>en-CA</td></tr>",
                            "<tr><td>rus</td></tr>",
                            "<tr><td>rum</td></tr>",
                            "<tr><td>en</td></tr>",
                            "<tr><td>swe</td></tr>",
                            "<tr><td>vie</td></tr>",
                            "<tr><td>ind</td></tr>",
                            "<tr><td>por</td></tr>",
                            "<tr><td>per</td></tr>",
                            "<tr><td>ger</td></tr>",
                            "<tr><td>en-US</td></tr>",
                            "<tr><td>nor</td></tr>",
                            "<tr><td>spa</td></tr>",
                            "<tr><td>fil</td></tr>",
                            "</table>"
                        ]
                    }
                }
            ],
            "execution_count": 5
        },
        {
            "cell_type": "code",
            "source": [
                "USE BooksDB\r\n",
                "SELECT TOP 10 SUBSTRING(authors, 1,3) AS 'FIRST THREE LETTERS' FROM books"
            ],
            "metadata": {
                "azdata_cell_guid": "17b449e9-3d5a-4c7c-a046-9d840ddaa837",
                "language": "sql"
            },
            "outputs": [
                {
                    "output_type": "display_data",
                    "data": {
                        "text/html": "(10 rows affected)"
                    },
                    "metadata": {}
                },
                {
                    "output_type": "display_data",
                    "data": {
                        "text/html": "Total execution time: 00:00:00.069"
                    },
                    "metadata": {}
                },
                {
                    "output_type": "execute_result",
                    "metadata": {},
                    "execution_count": 7,
                    "data": {
                        "application/vnd.dataresource+json": {
                            "schema": {
                                "fields": [
                                    {
                                        "name": "FIRST THREE LETTERS"
                                    }
                                ]
                            },
                            "data": [
                                {
                                    "0": "Suz"
                                },
                                {
                                    "0": "J.K"
                                },
                                {
                                    "0": "Ste"
                                },
                                {
                                    "0": "Har"
                                },
                                {
                                    "0": "F. "
                                },
                                {
                                    "0": "Joh"
                                },
                                {
                                    "0": "J.R"
                                },
                                {
                                    "0": "J.D"
                                },
                                {
                                    "0": "Dan"
                                },
                                {
                                    "0": "Jan"
                                }
                            ]
                        },
                        "text/html": [
                            "<table>",
                            "<tr><th>FIRST THREE LETTERS</th></tr>",
                            "<tr><td>Suz</td></tr>",
                            "<tr><td>J.K</td></tr>",
                            "<tr><td>Ste</td></tr>",
                            "<tr><td>Har</td></tr>",
                            "<tr><td>F. </td></tr>",
                            "<tr><td>Joh</td></tr>",
                            "<tr><td>J.R</td></tr>",
                            "<tr><td>J.D</td></tr>",
                            "<tr><td>Dan</td></tr>",
                            "<tr><td>Jan</td></tr>",
                            "</table>"
                        ]
                    }
                }
            ],
            "execution_count": 7
        },
        {
            "cell_type": "code",
            "source": [
                "--Write an SQL query to find the position of the alphabet (‘a’) in the first name column\r\n",
                "\r\n",
                "USE BooksDB\r\n",
                "SELECT  CHARINDEX('i','J.K Rowling', 1) AS 'CHARACTER LOCATION'"
            ],
            "metadata": {
                "language": "sql",
                "azdata_cell_guid": "85f9a605-531e-48dd-8ac3-63a9ab4b3acb"
            },
            "outputs": [
                {
                    "output_type": "display_data",
                    "data": {
                        "text/html": "(1 row affected)"
                    },
                    "metadata": {}
                },
                {
                    "output_type": "display_data",
                    "data": {
                        "text/html": "Total execution time: 00:00:00.067"
                    },
                    "metadata": {}
                },
                {
                    "output_type": "execute_result",
                    "metadata": {},
                    "execution_count": 10,
                    "data": {
                        "application/vnd.dataresource+json": {
                            "schema": {
                                "fields": [
                                    {
                                        "name": "CHARACTER LOCATION"
                                    }
                                ]
                            },
                            "data": [
                                {
                                    "0": "9"
                                }
                            ]
                        },
                        "text/html": [
                            "<table>",
                            "<tr><th>CHARACTER LOCATION</th></tr>",
                            "<tr><td>9</td></tr>",
                            "</table>"
                        ]
                    }
                }
            ],
            "execution_count": 10
        },
        {
            "cell_type": "code",
            "source": [
                "USE BooksDB\r\n",
                "SELECT TOP 10 RTRIM(authors) as 'remove trailing white space' FROM books "
            ],
            "metadata": {
                "language": "sql",
                "azdata_cell_guid": "c4f969a5-8f9c-442b-af51-1fa0dce602fd"
            },
            "outputs": [
                {
                    "output_type": "display_data",
                    "data": {
                        "text/html": "(10 rows affected)"
                    },
                    "metadata": {}
                },
                {
                    "output_type": "display_data",
                    "data": {
                        "text/html": "Total execution time: 00:00:00.069"
                    },
                    "metadata": {}
                },
                {
                    "output_type": "execute_result",
                    "metadata": {},
                    "execution_count": 11,
                    "data": {
                        "application/vnd.dataresource+json": {
                            "schema": {
                                "fields": [
                                    {
                                        "name": "remove trailing white space"
                                    }
                                ]
                            },
                            "data": [
                                {
                                    "0": "Suzanne Collins"
                                },
                                {
                                    "0": "J.K. Rowling, Mary GrandPré"
                                },
                                {
                                    "0": "Stephenie Meyer"
                                },
                                {
                                    "0": "Harper Lee"
                                },
                                {
                                    "0": "F. Scott Fitzgerald"
                                },
                                {
                                    "0": "John Green"
                                },
                                {
                                    "0": "J.R.R. Tolkien"
                                },
                                {
                                    "0": "J.D. Salinger"
                                },
                                {
                                    "0": "Dan Brown"
                                },
                                {
                                    "0": "Jane Austen"
                                }
                            ]
                        },
                        "text/html": [
                            "<table>",
                            "<tr><th>remove trailing white space</th></tr>",
                            "<tr><td>Suzanne Collins</td></tr>",
                            "<tr><td>J.K. Rowling, Mary GrandPré</td></tr>",
                            "<tr><td>Stephenie Meyer</td></tr>",
                            "<tr><td>Harper Lee</td></tr>",
                            "<tr><td>F. Scott Fitzgerald</td></tr>",
                            "<tr><td>John Green</td></tr>",
                            "<tr><td>J.R.R. Tolkien</td></tr>",
                            "<tr><td>J.D. Salinger</td></tr>",
                            "<tr><td>Dan Brown</td></tr>",
                            "<tr><td>Jane Austen</td></tr>",
                            "</table>"
                        ]
                    }
                }
            ],
            "execution_count": 11
        },
        {
            "cell_type": "code",
            "source": [
                "USE BooksDB\r\n",
                "SELECT TOP 10 average_rating AS 'RATING', authors AS 'AUTHORS', title AS 'TITLES' FROM books ORDER BY average_rating DESC;"
            ],
            "metadata": {
                "language": "sql",
                "azdata_cell_guid": "d0bb65ba-7663-4a17-b29c-46259686bf53"
            },
            "outputs": [
                {
                    "output_type": "display_data",
                    "data": {
                        "text/html": "(10 rows affected)"
                    },
                    "metadata": {}
                },
                {
                    "output_type": "display_data",
                    "data": {
                        "text/html": "Total execution time: 00:00:00.124"
                    },
                    "metadata": {}
                },
                {
                    "output_type": "execute_result",
                    "metadata": {},
                    "execution_count": 14,
                    "data": {
                        "application/vnd.dataresource+json": {
                            "schema": {
                                "fields": [
                                    {
                                        "name": "RATING"
                                    },
                                    {
                                        "name": "AUTHORS"
                                    },
                                    {
                                        "name": "TITLES"
                                    }
                                ]
                            },
                            "data": [
                                {
                                    "0": "4.82",
                                    "1": "Bill Watterson",
                                    "2": "The Complete Calvin and Hobbes"
                                },
                                {
                                    "0": "4.77",
                                    "1": "Brandon Sanderson",
                                    "2": "Words of Radiance (The Stormlight Archive, #2)"
                                },
                                {
                                    "0": "4.77",
                                    "1": "J.K. Rowling, Mary GrandPré",
                                    "2": "Harry Potter Boxed Set, Books 1-5 (Harry Potter, #1-5)"
                                },
                                {
                                    "0": "4.76",
                                    "1": "Anonymous, Lane T. Dennis, Wayne A. Grudem",
                                    "2": "ESV Study Bible"
                                },
                                {
                                    "0": "4.76",
                                    "1": "Francine Rivers",
                                    "2": "Mark of the Lion Trilogy"
                                },
                                {
                                    "0": "4.75",
                                    "1": "Bill Watterson",
                                    "2": "It's a Magical World: A Calvin and Hobbes Collection"
                                },
                                {
                                    "0": "4.74",
                                    "1": "J.K. Rowling",
                                    "2": "Harry Potter Boxset (Harry Potter, #1-7)"
                                },
                                {
                                    "0": "4.74",
                                    "1": "Bill Watterson",
                                    "2": "There's Treasure Everywhere: A Calvin and Hobbes Collection"
                                },
                                {
                                    "0": "4.73",
                                    "1": "J.K. Rowling",
                                    "2": "Harry Potter Collection (Harry Potter, #1-6)"
                                },
                                {
                                    "0": "4.73",
                                    "1": "Bill Watterson",
                                    "2": "The Authoritative Calvin and Hobbes: A Calvin and Hobbes Treasury"
                                }
                            ]
                        },
                        "text/html": [
                            "<table>",
                            "<tr><th>RATING</th><th>AUTHORS</th><th>TITLES</th></tr>",
                            "<tr><td>4.82</td><td>Bill Watterson</td><td>The Complete Calvin and Hobbes</td></tr>",
                            "<tr><td>4.77</td><td>Brandon Sanderson</td><td>Words of Radiance (The Stormlight Archive, #2)</td></tr>",
                            "<tr><td>4.77</td><td>J.K. Rowling, Mary GrandPré</td><td>Harry Potter Boxed Set, Books 1-5 (Harry Potter, #1-5)</td></tr>",
                            "<tr><td>4.76</td><td>Anonymous, Lane T. Dennis, Wayne A. Grudem</td><td>ESV Study Bible</td></tr>",
                            "<tr><td>4.76</td><td>Francine Rivers</td><td>Mark of the Lion Trilogy</td></tr>",
                            "<tr><td>4.75</td><td>Bill Watterson</td><td>It's a Magical World: A Calvin and Hobbes Collection</td></tr>",
                            "<tr><td>4.74</td><td>J.K. Rowling</td><td>Harry Potter Boxset (Harry Potter, #1-7)</td></tr>",
                            "<tr><td>4.74</td><td>Bill Watterson</td><td>There's Treasure Everywhere: A Calvin and Hobbes Collection</td></tr>",
                            "<tr><td>4.73</td><td>J.K. Rowling</td><td>Harry Potter Collection (Harry Potter, #1-6)</td></tr>",
                            "<tr><td>4.73</td><td>Bill Watterson</td><td>The Authoritative Calvin and Hobbes: A Calvin and Hobbes Treasury</td></tr>",
                            "</table>"
                        ]
                    }
                }
            ],
            "execution_count": 14
        },
        {
            "cell_type": "code",
            "source": [
                "USE BooksDB\r\n",
                "SELECT TOP 1 title,  LEN(title) as 'LONGEST TITLE' FROM books ORDER BY LEN(title) DESC\r\n",
                "\r\n",
                "SELECT TOP 1 title,  LEN(title) as 'SHORTEST TITLE' FROM books ORDER BY LEN(title) ASC; "
            ],
            "metadata": {
                "language": "sql",
                "azdata_cell_guid": "8d5d4e94-705a-4656-bb36-439f6b9db001"
            },
            "outputs": [
                {
                    "output_type": "display_data",
                    "data": {
                        "text/html": "(1 row affected)"
                    },
                    "metadata": {}
                },
                {
                    "output_type": "display_data",
                    "data": {
                        "text/html": "(1 row affected)"
                    },
                    "metadata": {}
                },
                {
                    "output_type": "display_data",
                    "data": {
                        "text/html": "Total execution time: 00:00:00.111"
                    },
                    "metadata": {}
                },
                {
                    "output_type": "execute_result",
                    "metadata": {},
                    "execution_count": 17,
                    "data": {
                        "application/vnd.dataresource+json": {
                            "schema": {
                                "fields": [
                                    {
                                        "name": "title"
                                    },
                                    {
                                        "name": "LONGEST TITLE"
                                    }
                                ]
                            },
                            "data": [
                                {
                                    "0": "Soccernomics: Why England Loses, Why Germany and Brazil Win, and Why the U.S., Japan, Australia, Turkey--and Even Iraq--Are Destined to Become the Kings of the World's Most Popular Sport",
                                    "1": "186"
                                }
                            ]
                        },
                        "text/html": [
                            "<table>",
                            "<tr><th>title</th><th>LONGEST TITLE</th></tr>",
                            "<tr><td>Soccernomics: Why England Loses, Why Germany and Brazil Win, and Why the U.S., Japan, Australia, Turkey--and Even Iraq--Are Destined to Become the Kings of the World's Most Popular Sport</td><td>186</td></tr>",
                            "</table>"
                        ]
                    }
                },
                {
                    "output_type": "execute_result",
                    "metadata": {},
                    "execution_count": 17,
                    "data": {
                        "application/vnd.dataresource+json": {
                            "schema": {
                                "fields": [
                                    {
                                        "name": "title"
                                    },
                                    {
                                        "name": "SHORTEST TITLE"
                                    }
                                ]
                            },
                            "data": [
                                {
                                    "0": "It",
                                    "1": "2"
                                }
                            ]
                        },
                        "text/html": [
                            "<table>",
                            "<tr><th>title</th><th>SHORTEST TITLE</th></tr>",
                            "<tr><td>It</td><td>2</td></tr>",
                            "</table>"
                        ]
                    }
                }
            ],
            "execution_count": 17
        },
        {
            "cell_type": "code",
            "source": [
                "USE BooksDB\r\n",
                "SELECT TOP 5 REPLACE(authors, 'I','A') AS 'REPLACE' FROM books"
            ],
            "metadata": {
                "language": "sql",
                "azdata_cell_guid": "c3fd6b97-cee4-4dba-8721-2289576dcf3b"
            },
            "outputs": [
                {
                    "output_type": "display_data",
                    "data": {
                        "text/html": "(5 rows affected)"
                    },
                    "metadata": {}
                },
                {
                    "output_type": "display_data",
                    "data": {
                        "text/html": "Total execution time: 00:00:00.070"
                    },
                    "metadata": {}
                },
                {
                    "output_type": "execute_result",
                    "metadata": {},
                    "execution_count": 19,
                    "data": {
                        "application/vnd.dataresource+json": {
                            "schema": {
                                "fields": [
                                    {
                                        "name": "REPLACE"
                                    }
                                ]
                            },
                            "data": [
                                {
                                    "0": "Suzanne CollAns"
                                },
                                {
                                    "0": "J.K. RowlAng, Mary GrandPré"
                                },
                                {
                                    "0": "StephenAe Meyer"
                                },
                                {
                                    "0": "Harper Lee"
                                },
                                {
                                    "0": "F. Scott FAtzgerald"
                                }
                            ]
                        },
                        "text/html": [
                            "<table>",
                            "<tr><th>REPLACE</th></tr>",
                            "<tr><td>Suzanne CollAns</td></tr>",
                            "<tr><td>J.K. RowlAng, Mary GrandPré</td></tr>",
                            "<tr><td>StephenAe Meyer</td></tr>",
                            "<tr><td>Harper Lee</td></tr>",
                            "<tr><td>F. Scott FAtzgerald</td></tr>",
                            "</table>"
                        ]
                    }
                }
            ],
            "execution_count": 19
        },
        {
            "cell_type": "code",
            "source": [
                "USE BooksDB\r\n",
                "SELECT TOP 10 CONCAT(authors, '+', title) AS 'CONCAT AUTHOR AND TITLE' FROM books"
            ],
            "metadata": {
                "language": "sql",
                "azdata_cell_guid": "f2190150-1d0c-4cf0-98bf-8761237b2aae"
            },
            "outputs": [
                {
                    "output_type": "display_data",
                    "data": {
                        "text/html": "(10 rows affected)"
                    },
                    "metadata": {}
                },
                {
                    "output_type": "display_data",
                    "data": {
                        "text/html": "Total execution time: 00:00:00.128"
                    },
                    "metadata": {}
                },
                {
                    "output_type": "execute_result",
                    "metadata": {},
                    "execution_count": 20,
                    "data": {
                        "application/vnd.dataresource+json": {
                            "schema": {
                                "fields": [
                                    {
                                        "name": "CONCAT AUTHOR AND TITLE"
                                    }
                                ]
                            },
                            "data": [
                                {
                                    "0": "Jane Austen+Pride and Prejudice"
                                },
                                {
                                    "0": "Suzanne Collins+The Hunger Games (The Hunger Games, #1)"
                                },
                                {
                                    "0": "J.K. Rowling, Mary GrandPré+Harry Potter and the Sorcerer's Stone (Harry Potter, #1)"
                                },
                                {
                                    "0": "Stephenie Meyer+Twilight (Twilight, #1)"
                                },
                                {
                                    "0": "Harper Lee+To Kill a Mockingbird"
                                },
                                {
                                    "0": "F. Scott Fitzgerald+The Great Gatsby"
                                },
                                {
                                    "0": "John Green+The Fault in Our Stars"
                                },
                                {
                                    "0": "J.R.R. Tolkien+The Hobbit"
                                },
                                {
                                    "0": "J.D. Salinger+The Catcher in the Rye"
                                },
                                {
                                    "0": "Dan Brown+Angels & Demons  (Robert Langdon, #1)"
                                }
                            ]
                        },
                        "text/html": [
                            "<table>",
                            "<tr><th>CONCAT AUTHOR AND TITLE</th></tr>",
                            "<tr><td>Jane Austen+Pride and Prejudice</td></tr>",
                            "<tr><td>Suzanne Collins+The Hunger Games (The Hunger Games, #1)</td></tr>",
                            "<tr><td>J.K. Rowling, Mary GrandPré+Harry Potter and the Sorcerer's Stone (Harry Potter, #1)</td></tr>",
                            "<tr><td>Stephenie Meyer+Twilight (Twilight, #1)</td></tr>",
                            "<tr><td>Harper Lee+To Kill a Mockingbird</td></tr>",
                            "<tr><td>F. Scott Fitzgerald+The Great Gatsby</td></tr>",
                            "<tr><td>John Green+The Fault in Our Stars</td></tr>",
                            "<tr><td>J.R.R. Tolkien+The Hobbit</td></tr>",
                            "<tr><td>J.D. Salinger+The Catcher in the Rye</td></tr>",
                            "<tr><td>Dan Brown+Angels &amp; Demons  (Robert Langdon, #1)</td></tr>",
                            "</table>"
                        ]
                    }
                }
            ],
            "execution_count": 20
        },
        {
            "cell_type": "code",
            "source": [
                "USE BooksDB\r\n",
                "SELECT TOP 10 * FROM books ORDER BY books_count DESC;"
            ],
            "metadata": {
                "language": "sql",
                "azdata_cell_guid": "6392a031-c7df-409b-810d-aec21563cabe"
            },
            "outputs": [
                {
                    "output_type": "display_data",
                    "data": {
                        "text/html": "(10 rows affected)"
                    },
                    "metadata": {}
                },
                {
                    "output_type": "display_data",
                    "data": {
                        "text/html": "Total execution time: 00:00:00.115"
                    },
                    "metadata": {}
                },
                {
                    "output_type": "execute_result",
                    "metadata": {},
                    "execution_count": 22,
                    "data": {
                        "application/vnd.dataresource+json": {
                            "schema": {
                                "fields": [
                                    {
                                        "name": "id"
                                    },
                                    {
                                        "name": "book_id"
                                    },
                                    {
                                        "name": "best_book_id"
                                    },
                                    {
                                        "name": "work_id"
                                    },
                                    {
                                        "name": "books_count"
                                    },
                                    {
                                        "name": "isbn"
                                    },
                                    {
                                        "name": "isbn13"
                                    },
                                    {
                                        "name": "authors"
                                    },
                                    {
                                        "name": "original_publication_year"
                                    },
                                    {
                                        "name": "original_title"
                                    },
                                    {
                                        "name": "title"
                                    },
                                    {
                                        "name": "language_code"
                                    },
                                    {
                                        "name": "average_rating"
                                    },
                                    {
                                        "name": "ratings_count"
                                    },
                                    {
                                        "name": "work_ratings_count"
                                    },
                                    {
                                        "name": "work_text_reviews_count"
                                    },
                                    {
                                        "name": "ratings_1"
                                    },
                                    {
                                        "name": "ratings_2"
                                    },
                                    {
                                        "name": "ratings_3"
                                    },
                                    {
                                        "name": "ratings_4"
                                    },
                                    {
                                        "name": "ratings_5"
                                    },
                                    {
                                        "name": "image_url"
                                    },
                                    {
                                        "name": "small_image_url"
                                    }
                                ]
                            },
                            "data": [
                                {
                                    "0": "10",
                                    "1": "1885",
                                    "2": "1885",
                                    "3": "3060926",
                                    "4": "3455",
                                    "5": "679783261",
                                    "6": "9780679783270",
                                    "7": "Jane Austen",
                                    "8": "1813",
                                    "9": "Pride and Prejudice",
                                    "10": "Pride and Prejudice",
                                    "11": "eng",
                                    "12": "4.24",
                                    "13": "2035490",
                                    "14": "2191465",
                                    "15": "49152",
                                    "16": "54700",
                                    "17": "86485",
                                    "18": "284852",
                                    "19": "609755",
                                    "20": "1155673",
                                    "21": "https://images.gr-assets.com/books/1320399351m/1885.jpg",
                                    "22": "https://images.gr-assets.com/books/1320399351s/1885.jpg"
                                },
                                {
                                    "0": "1725",
                                    "1": "6324090",
                                    "2": "6324090",
                                    "3": "55548884",
                                    "4": "3296",
                                    "5": "NULL",
                                    "6": "NULL",
                                    "7": "Lewis Carroll, John Tenniel",
                                    "8": "1865",
                                    "9": "NULL",
                                    "10": "Alice's Adventures in Wonderland",
                                    "11": "eng",
                                    "12": "3.99",
                                    "13": "30426",
                                    "14": "85031",
                                    "15": "5047",
                                    "16": "1724",
                                    "17": "4863",
                                    "18": "18094",
                                    "19": "27848",
                                    "20": "32502",
                                    "21": "https://images.gr-assets.com/books/1391204048m/6324090.jpg",
                                    "22": "https://images.gr-assets.com/books/1391204048s/6324090.jpg"
                                },
                                {
                                    "0": "71",
                                    "1": "18490",
                                    "2": "18490",
                                    "3": "4836639",
                                    "4": "2618",
                                    "5": "141439475",
                                    "6": "9780141439470",
                                    "7": "Mary Wollstonecraft Shelley, Percy Bysshe Shelley, Maurice Hindle",
                                    "8": "1818",
                                    "9": "Frankenstein; or, The Modern Prometheus",
                                    "10": "Frankenstein",
                                    "11": "eng",
                                    "12": "3.75",
                                    "13": "808589",
                                    "14": "883563",
                                    "15": "19993",
                                    "16": "29366",
                                    "17": "74142",
                                    "18": "231022",
                                    "19": "300495",
                                    "20": "248538",
                                    "21": "https://images.gr-assets.com/books/1381512375m/18490.jpg",
                                    "22": "https://images.gr-assets.com/books/1381512375s/18490.jpg"
                                },
                                {
                                    "0": "293",
                                    "1": "295",
                                    "2": "295",
                                    "3": "3077988",
                                    "4": "2573",
                                    "5": "753453800",
                                    "6": "9780753453800",
                                    "7": "Robert Louis Stevenson",
                                    "8": "1882",
                                    "9": "Treasure Island",
                                    "10": "Treasure Island",
                                    "11": "eng",
                                    "12": "3.82",
                                    "13": "268012",
                                    "14": "310515",
                                    "15": "7917",
                                    "16": "5349",
                                    "17": "19127",
                                    "18": "86487",
                                    "19": "114968",
                                    "20": "84584",
                                    "21": "https://images.gr-assets.com/books/1485248909m/295.jpg",
                                    "22": "https://images.gr-assets.com/books/1485248909s/295.jpg"
                                },
                                {
                                    "0": "43",
                                    "1": "10210",
                                    "2": "10210",
                                    "3": "2977639",
                                    "4": "2568",
                                    "5": "142437204",
                                    "6": "9780142437210",
                                    "7": "Charlotte Brontë, Michael Mason",
                                    "8": "1847",
                                    "9": "Jane Eyre",
                                    "10": "Jane Eyre",
                                    "11": "eng",
                                    "12": "4.1",
                                    "13": "1198557",
                                    "14": "1286135",
                                    "15": "31212",
                                    "16": "35132",
                                    "17": "64274",
                                    "18": "212294",
                                    "19": "400214",
                                    "20": "574221",
                                    "21": "https://images.gr-assets.com/books/1327867269m/10210.jpg",
                                    "22": "https://images.gr-assets.com/books/1327867269s/10210.jpg"
                                },
                                {
                                    "0": "63",
                                    "1": "6185",
                                    "2": "6185",
                                    "3": "1565818",
                                    "4": "2498",
                                    "5": "393978893",
                                    "6": "9780393978900",
                                    "7": "Emily Brontë, Richard J. Dunn",
                                    "8": "1847",
                                    "9": "Wuthering Heights",
                                    "10": "Wuthering Heights",
                                    "11": "eng",
                                    "12": "3.82",
                                    "13": "899195",
                                    "14": "1001135",
                                    "15": "26157",
                                    "16": "46469",
                                    "17": "84084",
                                    "18": "215320",
                                    "19": "309180",
                                    "20": "346082",
                                    "21": "https://s.gr-assets.com/assets/nophoto/book/111x148-bcc042a9c91a29c1d680899eff700a03.png",
                                    "22": "https://s.gr-assets.com/assets/nophoto/book/50x75-a91bf249278a81aabab721ef782c4a74.png"
                                },
                                {
                                    "0": "116",
                                    "1": "24583",
                                    "2": "24583",
                                    "3": "41326609",
                                    "4": "2448",
                                    "5": "143039563",
                                    "6": "9780143039560",
                                    "7": "Mark Twain, Guy Cardwell, John Seelye",
                                    "8": "1876",
                                    "9": "The Adventures of Tom Sawyer",
                                    "10": "The Adventures of Tom Sawyer",
                                    "11": "eng",
                                    "12": "3.89",
                                    "13": "555359",
                                    "14": "594226",
                                    "15": "7165",
                                    "16": "12130",
                                    "17": "34349",
                                    "18": "143659",
                                    "19": "217896",
                                    "20": "186192",
                                    "21": "https://images.gr-assets.com/books/1404811979m/24583.jpg",
                                    "22": "https://images.gr-assets.com/books/1404811979s/24583.jpg"
                                },
                                {
                                    "0": "204",
                                    "1": "5326",
                                    "2": "5326",
                                    "3": "3097440",
                                    "4": "2380",
                                    "5": "1561797464",
                                    "6": "9781561797460",
                                    "7": "Charles Dickens",
                                    "8": "1843",
                                    "9": "A Christmas Carol",
                                    "10": "A Christmas Carol",
                                    "11": "NULL",
                                    "12": "4.02",
                                    "13": "394540",
                                    "14": "441396",
                                    "15": "11568",
                                    "16": "6737",
                                    "17": "21415",
                                    "18": "93906",
                                    "19": "153823",
                                    "20": "165515",
                                    "21": "https://images.gr-assets.com/books/1406512317m/5326.jpg",
                                    "22": "https://images.gr-assets.com/books/1406512317s/5326.jpg"
                                },
                                {
                                    "0": "95",
                                    "1": "5297",
                                    "2": "5297",
                                    "3": "1858012",
                                    "4": "2303",
                                    "5": "375751513",
                                    "6": "9780375751520",
                                    "7": "Oscar Wilde, Jeffrey Eugenides",
                                    "8": "1891",
                                    "9": "The Picture of Dorian Gray",
                                    "10": "The Picture of Dorian Gray",
                                    "11": "eng",
                                    "12": "4.06",
                                    "13": "590014",
                                    "14": "674551",
                                    "15": "19647",
                                    "16": "9825",
                                    "17": "30735",
                                    "18": "129420",
                                    "19": "246892",
                                    "20": "257679",
                                    "21": "https://images.gr-assets.com/books/1424596966m/5297.jpg",
                                    "22": "https://images.gr-assets.com/books/1424596966s/5297.jpg"
                                },
                                {
                                    "0": "58",
                                    "1": "2956",
                                    "2": "2956",
                                    "3": "1835605",
                                    "4": "2277",
                                    "5": "142437174",
                                    "6": "9780142437180",
                                    "7": "Mark Twain, John Seelye, Guy Cardwell",
                                    "8": "1884",
                                    "9": "The Adventures of Huckleberry Finn",
                                    "10": "The Adventures of Huckleberry Finn",
                                    "11": "eng",
                                    "12": "3.8",
                                    "13": "953758",
                                    "14": "1001491",
                                    "15": "12448",
                                    "16": "28467",
                                    "17": "76630",
                                    "18": "255722",
                                    "19": "344356",
                                    "20": "296316",
                                    "21": "https://images.gr-assets.com/books/1405973850m/2956.jpg",
                                    "22": "https://images.gr-assets.com/books/1405973850s/2956.jpg"
                                }
                            ]
                        },
                        "text/html": [
                            "<table>",
                            "<tr><th>id</th><th>book_id</th><th>best_book_id</th><th>work_id</th><th>books_count</th><th>isbn</th><th>isbn13</th><th>authors</th><th>original_publication_year</th><th>original_title</th><th>title</th><th>language_code</th><th>average_rating</th><th>ratings_count</th><th>work_ratings_count</th><th>work_text_reviews_count</th><th>ratings_1</th><th>ratings_2</th><th>ratings_3</th><th>ratings_4</th><th>ratings_5</th><th>image_url</th><th>small_image_url</th></tr>",
                            "<tr><td>10</td><td>1885</td><td>1885</td><td>3060926</td><td>3455</td><td>679783261</td><td>9780679783270</td><td>Jane Austen</td><td>1813</td><td>Pride and Prejudice</td><td>Pride and Prejudice</td><td>eng</td><td>4.24</td><td>2035490</td><td>2191465</td><td>49152</td><td>54700</td><td>86485</td><td>284852</td><td>609755</td><td>1155673</td><td>https://images.gr-assets.com/books/1320399351m/1885.jpg</td><td>https://images.gr-assets.com/books/1320399351s/1885.jpg</td></tr>",
                            "<tr><td>1725</td><td>6324090</td><td>6324090</td><td>55548884</td><td>3296</td><td>NULL</td><td>NULL</td><td>Lewis Carroll, John Tenniel</td><td>1865</td><td>NULL</td><td>Alice's Adventures in Wonderland</td><td>eng</td><td>3.99</td><td>30426</td><td>85031</td><td>5047</td><td>1724</td><td>4863</td><td>18094</td><td>27848</td><td>32502</td><td>https://images.gr-assets.com/books/1391204048m/6324090.jpg</td><td>https://images.gr-assets.com/books/1391204048s/6324090.jpg</td></tr>",
                            "<tr><td>71</td><td>18490</td><td>18490</td><td>4836639</td><td>2618</td><td>141439475</td><td>9780141439470</td><td>Mary Wollstonecraft Shelley, Percy Bysshe Shelley, Maurice Hindle</td><td>1818</td><td>Frankenstein; or, The Modern Prometheus</td><td>Frankenstein</td><td>eng</td><td>3.75</td><td>808589</td><td>883563</td><td>19993</td><td>29366</td><td>74142</td><td>231022</td><td>300495</td><td>248538</td><td>https://images.gr-assets.com/books/1381512375m/18490.jpg</td><td>https://images.gr-assets.com/books/1381512375s/18490.jpg</td></tr>",
                            "<tr><td>293</td><td>295</td><td>295</td><td>3077988</td><td>2573</td><td>753453800</td><td>9780753453800</td><td>Robert Louis Stevenson</td><td>1882</td><td>Treasure Island</td><td>Treasure Island</td><td>eng</td><td>3.82</td><td>268012</td><td>310515</td><td>7917</td><td>5349</td><td>19127</td><td>86487</td><td>114968</td><td>84584</td><td>https://images.gr-assets.com/books/1485248909m/295.jpg</td><td>https://images.gr-assets.com/books/1485248909s/295.jpg</td></tr>",
                            "<tr><td>43</td><td>10210</td><td>10210</td><td>2977639</td><td>2568</td><td>142437204</td><td>9780142437210</td><td>Charlotte Brontë, Michael Mason</td><td>1847</td><td>Jane Eyre</td><td>Jane Eyre</td><td>eng</td><td>4.1</td><td>1198557</td><td>1286135</td><td>31212</td><td>35132</td><td>64274</td><td>212294</td><td>400214</td><td>574221</td><td>https://images.gr-assets.com/books/1327867269m/10210.jpg</td><td>https://images.gr-assets.com/books/1327867269s/10210.jpg</td></tr>",
                            "<tr><td>63</td><td>6185</td><td>6185</td><td>1565818</td><td>2498</td><td>393978893</td><td>9780393978900</td><td>Emily Brontë, Richard J. Dunn</td><td>1847</td><td>Wuthering Heights</td><td>Wuthering Heights</td><td>eng</td><td>3.82</td><td>899195</td><td>1001135</td><td>26157</td><td>46469</td><td>84084</td><td>215320</td><td>309180</td><td>346082</td><td>https://s.gr-assets.com/assets/nophoto/book/111x148-bcc042a9c91a29c1d680899eff700a03.png</td><td>https://s.gr-assets.com/assets/nophoto/book/50x75-a91bf249278a81aabab721ef782c4a74.png</td></tr>",
                            "<tr><td>116</td><td>24583</td><td>24583</td><td>41326609</td><td>2448</td><td>143039563</td><td>9780143039560</td><td>Mark Twain, Guy Cardwell, John Seelye</td><td>1876</td><td>The Adventures of Tom Sawyer</td><td>The Adventures of Tom Sawyer</td><td>eng</td><td>3.89</td><td>555359</td><td>594226</td><td>7165</td><td>12130</td><td>34349</td><td>143659</td><td>217896</td><td>186192</td><td>https://images.gr-assets.com/books/1404811979m/24583.jpg</td><td>https://images.gr-assets.com/books/1404811979s/24583.jpg</td></tr>",
                            "<tr><td>204</td><td>5326</td><td>5326</td><td>3097440</td><td>2380</td><td>1561797464</td><td>9781561797460</td><td>Charles Dickens</td><td>1843</td><td>A Christmas Carol</td><td>A Christmas Carol</td><td>NULL</td><td>4.02</td><td>394540</td><td>441396</td><td>11568</td><td>6737</td><td>21415</td><td>93906</td><td>153823</td><td>165515</td><td>https://images.gr-assets.com/books/1406512317m/5326.jpg</td><td>https://images.gr-assets.com/books/1406512317s/5326.jpg</td></tr>",
                            "<tr><td>95</td><td>5297</td><td>5297</td><td>1858012</td><td>2303</td><td>375751513</td><td>9780375751520</td><td>Oscar Wilde, Jeffrey Eugenides</td><td>1891</td><td>The Picture of Dorian Gray</td><td>The Picture of Dorian Gray</td><td>eng</td><td>4.06</td><td>590014</td><td>674551</td><td>19647</td><td>9825</td><td>30735</td><td>129420</td><td>246892</td><td>257679</td><td>https://images.gr-assets.com/books/1424596966m/5297.jpg</td><td>https://images.gr-assets.com/books/1424596966s/5297.jpg</td></tr>",
                            "<tr><td>58</td><td>2956</td><td>2956</td><td>1835605</td><td>2277</td><td>142437174</td><td>9780142437180</td><td>Mark Twain, John Seelye, Guy Cardwell</td><td>1884</td><td>The Adventures of Huckleberry Finn</td><td>The Adventures of Huckleberry Finn</td><td>eng</td><td>3.8</td><td>953758</td><td>1001491</td><td>12448</td><td>28467</td><td>76630</td><td>255722</td><td>344356</td><td>296316</td><td>https://images.gr-assets.com/books/1405973850m/2956.jpg</td><td>https://images.gr-assets.com/books/1405973850s/2956.jpg</td></tr>",
                            "</table>"
                        ]
                    }
                }
            ],
            "execution_count": 22
        },
        {
            "cell_type": "code",
            "source": [
                "USE BooksDB\r\n",
                "SELECT TOP 5 * FROM books ORDER BY original_publication_year ASC, average_rating DESC;"
            ],
            "metadata": {
                "language": "sql",
                "azdata_cell_guid": "8578e6fe-ba28-49f2-b4fc-c08118708be1"
            },
            "outputs": [
                {
                    "output_type": "display_data",
                    "data": {
                        "text/html": "(5 rows affected)"
                    },
                    "metadata": {}
                },
                {
                    "output_type": "display_data",
                    "data": {
                        "text/html": "Total execution time: 00:00:00.108"
                    },
                    "metadata": {}
                },
                {
                    "output_type": "execute_result",
                    "metadata": {},
                    "execution_count": 23,
                    "data": {
                        "application/vnd.dataresource+json": {
                            "schema": {
                                "fields": [
                                    {
                                        "name": "id"
                                    },
                                    {
                                        "name": "book_id"
                                    },
                                    {
                                        "name": "best_book_id"
                                    },
                                    {
                                        "name": "work_id"
                                    },
                                    {
                                        "name": "books_count"
                                    },
                                    {
                                        "name": "isbn"
                                    },
                                    {
                                        "name": "isbn13"
                                    },
                                    {
                                        "name": "authors"
                                    },
                                    {
                                        "name": "original_publication_year"
                                    },
                                    {
                                        "name": "original_title"
                                    },
                                    {
                                        "name": "title"
                                    },
                                    {
                                        "name": "language_code"
                                    },
                                    {
                                        "name": "average_rating"
                                    },
                                    {
                                        "name": "ratings_count"
                                    },
                                    {
                                        "name": "work_ratings_count"
                                    },
                                    {
                                        "name": "work_text_reviews_count"
                                    },
                                    {
                                        "name": "ratings_1"
                                    },
                                    {
                                        "name": "ratings_2"
                                    },
                                    {
                                        "name": "ratings_3"
                                    },
                                    {
                                        "name": "ratings_4"
                                    },
                                    {
                                        "name": "ratings_5"
                                    },
                                    {
                                        "name": "image_url"
                                    },
                                    {
                                        "name": "small_image_url"
                                    }
                                ]
                            },
                            "data": [
                                {
                                    "0": "4410",
                                    "1": "349254",
                                    "2": "349254",
                                    "3": "17150",
                                    "4": "10",
                                    "5": "618390979",
                                    "6": "9780618390980",
                                    "7": "Jude Fisher",
                                    "8": "NULL",
                                    "9": "NULL",
                                    "10": "The Lord of the Rings: The Return of the King: Visual Companion",
                                    "11": "eng",
                                    "12": "4.59",
                                    "13": "17526",
                                    "14": "17641",
                                    "15": "28",
                                    "16": "157",
                                    "17": "202",
                                    "18": "1259",
                                    "19": "3458",
                                    "20": "12565",
                                    "21": "https://s.gr-assets.com/assets/nophoto/book/111x148-bcc042a9c91a29c1d680899eff700a03.png",
                                    "22": "https://s.gr-assets.com/assets/nophoto/book/50x75-a91bf249278a81aabab721ef782c4a74.png"
                                },
                                {
                                    "0": "4708",
                                    "1": "9832370",
                                    "2": "9832370",
                                    "3": "27881851",
                                    "4": "1",
                                    "5": "NULL",
                                    "6": "NULL",
                                    "7": "BookRags",
                                    "8": "NULL",
                                    "9": "NULL",
                                    "10": "BookRags Summary:  A Storm of Swords",
                                    "11": "eng",
                                    "12": "4.59",
                                    "13": "18960",
                                    "14": "18960",
                                    "15": "92",
                                    "16": "278",
                                    "17": "151",
                                    "18": "877",
                                    "19": "4460",
                                    "20": "13194",
                                    "21": "https://images.gr-assets.com/books/1369340463m/9832370.jpg",
                                    "22": "https://images.gr-assets.com/books/1369340463s/9832370.jpg"
                                },
                                {
                                    "0": "4229",
                                    "1": "36",
                                    "2": "36",
                                    "3": "4414",
                                    "4": "12",
                                    "5": "618391002",
                                    "6": "9780618391000",
                                    "7": "Chris   Smith, Christopher Lee, Richard Taylor",
                                    "8": "NULL",
                                    "9": "The Lord of the Rings: Weapons and Warfare",
                                    "10": "The Lord of the Rings: Weapons and Warfare",
                                    "11": "eng",
                                    "12": "4.53",
                                    "13": "18788",
                                    "14": "18911",
                                    "15": "49",
                                    "16": "297",
                                    "17": "282",
                                    "18": "1556",
                                    "19": "3743",
                                    "20": "13033",
                                    "21": "https://s.gr-assets.com/assets/nophoto/book/111x148-bcc042a9c91a29c1d680899eff700a03.png",
                                    "22": "https://s.gr-assets.com/assets/nophoto/book/50x75-a91bf249278a81aabab721ef782c4a74.png"
                                },
                                {
                                    "0": "7191",
                                    "1": "9528186",
                                    "2": "9528186",
                                    "3": "43302330",
                                    "4": "1",
                                    "5": "613321368X",
                                    "6": "9786133213680",
                                    "7": "Lambert M. Surhone",
                                    "8": "NULL",
                                    "9": "NULL",
                                    "10": "Pretty Little Liars (TV Series)",
                                    "11": "eng",
                                    "12": "4.46",
                                    "13": "11643",
                                    "14": "11643",
                                    "15": "64",
                                    "16": "183",
                                    "17": "241",
                                    "18": "1299",
                                    "19": "2239",
                                    "20": "7681",
                                    "21": "https://images.gr-assets.com/books/1379594334m/9528186.jpg",
                                    "22": "https://images.gr-assets.com/books/1379594334s/9528186.jpg"
                                },
                                {
                                    "0": "976",
                                    "1": "90072",
                                    "2": "90072",
                                    "3": "24501333",
                                    "4": "3",
                                    "5": "793551617",
                                    "6": "9780793551610",
                                    "7": "Robert Kapilow, Dr. Seuss",
                                    "8": "NULL",
                                    "9": "NULL",
                                    "10": "Dr. Seuss's Green Eggs and Ham: For Soprano, Boy Soprano, and Orchestra",
                                    "11": "NULL",
                                    "12": "4.44",
                                    "13": "90574",
                                    "14": "90691",
                                    "15": "262",
                                    "16": "803",
                                    "17": "1943",
                                    "18": "10781",
                                    "19": "20483",
                                    "20": "56681",
                                    "21": "https://s.gr-assets.com/assets/nophoto/book/111x148-bcc042a9c91a29c1d680899eff700a03.png",
                                    "22": "https://s.gr-assets.com/assets/nophoto/book/50x75-a91bf249278a81aabab721ef782c4a74.png"
                                }
                            ]
                        },
                        "text/html": [
                            "<table>",
                            "<tr><th>id</th><th>book_id</th><th>best_book_id</th><th>work_id</th><th>books_count</th><th>isbn</th><th>isbn13</th><th>authors</th><th>original_publication_year</th><th>original_title</th><th>title</th><th>language_code</th><th>average_rating</th><th>ratings_count</th><th>work_ratings_count</th><th>work_text_reviews_count</th><th>ratings_1</th><th>ratings_2</th><th>ratings_3</th><th>ratings_4</th><th>ratings_5</th><th>image_url</th><th>small_image_url</th></tr>",
                            "<tr><td>4410</td><td>349254</td><td>349254</td><td>17150</td><td>10</td><td>618390979</td><td>9780618390980</td><td>Jude Fisher</td><td>NULL</td><td>NULL</td><td>The Lord of the Rings: The Return of the King: Visual Companion</td><td>eng</td><td>4.59</td><td>17526</td><td>17641</td><td>28</td><td>157</td><td>202</td><td>1259</td><td>3458</td><td>12565</td><td>https://s.gr-assets.com/assets/nophoto/book/111x148-bcc042a9c91a29c1d680899eff700a03.png</td><td>https://s.gr-assets.com/assets/nophoto/book/50x75-a91bf249278a81aabab721ef782c4a74.png</td></tr>",
                            "<tr><td>4708</td><td>9832370</td><td>9832370</td><td>27881851</td><td>1</td><td>NULL</td><td>NULL</td><td>BookRags</td><td>NULL</td><td>NULL</td><td>BookRags Summary:  A Storm of Swords</td><td>eng</td><td>4.59</td><td>18960</td><td>18960</td><td>92</td><td>278</td><td>151</td><td>877</td><td>4460</td><td>13194</td><td>https://images.gr-assets.com/books/1369340463m/9832370.jpg</td><td>https://images.gr-assets.com/books/1369340463s/9832370.jpg</td></tr>",
                            "<tr><td>4229</td><td>36</td><td>36</td><td>4414</td><td>12</td><td>618391002</td><td>9780618391000</td><td>Chris   Smith, Christopher Lee, Richard Taylor</td><td>NULL</td><td>The Lord of the Rings: Weapons and Warfare</td><td>The Lord of the Rings: Weapons and Warfare</td><td>eng</td><td>4.53</td><td>18788</td><td>18911</td><td>49</td><td>297</td><td>282</td><td>1556</td><td>3743</td><td>13033</td><td>https://s.gr-assets.com/assets/nophoto/book/111x148-bcc042a9c91a29c1d680899eff700a03.png</td><td>https://s.gr-assets.com/assets/nophoto/book/50x75-a91bf249278a81aabab721ef782c4a74.png</td></tr>",
                            "<tr><td>7191</td><td>9528186</td><td>9528186</td><td>43302330</td><td>1</td><td>613321368X</td><td>9786133213680</td><td>Lambert M. Surhone</td><td>NULL</td><td>NULL</td><td>Pretty Little Liars (TV Series)</td><td>eng</td><td>4.46</td><td>11643</td><td>11643</td><td>64</td><td>183</td><td>241</td><td>1299</td><td>2239</td><td>7681</td><td>https://images.gr-assets.com/books/1379594334m/9528186.jpg</td><td>https://images.gr-assets.com/books/1379594334s/9528186.jpg</td></tr>",
                            "<tr><td>976</td><td>90072</td><td>90072</td><td>24501333</td><td>3</td><td>793551617</td><td>9780793551610</td><td>Robert Kapilow, Dr. Seuss</td><td>NULL</td><td>NULL</td><td>Dr. Seuss's Green Eggs and Ham: For Soprano, Boy Soprano, and Orchestra</td><td>NULL</td><td>4.44</td><td>90574</td><td>90691</td><td>262</td><td>803</td><td>1943</td><td>10781</td><td>20483</td><td>56681</td><td>https://s.gr-assets.com/assets/nophoto/book/111x148-bcc042a9c91a29c1d680899eff700a03.png</td><td>https://s.gr-assets.com/assets/nophoto/book/50x75-a91bf249278a81aabab721ef782c4a74.png</td></tr>",
                            "</table>"
                        ]
                    }
                }
            ],
            "execution_count": 23
        },
        {
            "cell_type": "code",
            "source": [
                "USE BooksDB\r\n",
                "SELECT * FROM books WHERE authors IN ('Dr. Seuss')"
            ],
            "metadata": {
                "language": "sql",
                "azdata_cell_guid": "07e58261-346c-4e0f-95f2-b40a13ef8ad2"
            },
            "outputs": [
                {
                    "output_type": "display_data",
                    "data": {
                        "text/html": "(18 rows affected)"
                    },
                    "metadata": {}
                },
                {
                    "output_type": "display_data",
                    "data": {
                        "text/html": "Total execution time: 00:00:00.080"
                    },
                    "metadata": {}
                },
                {
                    "output_type": "execute_result",
                    "metadata": {},
                    "execution_count": 24,
                    "data": {
                        "application/vnd.dataresource+json": {
                            "schema": {
                                "fields": [
                                    {
                                        "name": "id"
                                    },
                                    {
                                        "name": "book_id"
                                    },
                                    {
                                        "name": "best_book_id"
                                    },
                                    {
                                        "name": "work_id"
                                    },
                                    {
                                        "name": "books_count"
                                    },
                                    {
                                        "name": "isbn"
                                    },
                                    {
                                        "name": "isbn13"
                                    },
                                    {
                                        "name": "authors"
                                    },
                                    {
                                        "name": "original_publication_year"
                                    },
                                    {
                                        "name": "original_title"
                                    },
                                    {
                                        "name": "title"
                                    },
                                    {
                                        "name": "language_code"
                                    },
                                    {
                                        "name": "average_rating"
                                    },
                                    {
                                        "name": "ratings_count"
                                    },
                                    {
                                        "name": "work_ratings_count"
                                    },
                                    {
                                        "name": "work_text_reviews_count"
                                    },
                                    {
                                        "name": "ratings_1"
                                    },
                                    {
                                        "name": "ratings_2"
                                    },
                                    {
                                        "name": "ratings_3"
                                    },
                                    {
                                        "name": "ratings_4"
                                    },
                                    {
                                        "name": "ratings_5"
                                    },
                                    {
                                        "name": "image_url"
                                    },
                                    {
                                        "name": "small_image_url"
                                    }
                                ]
                            },
                            "data": [
                                {
                                    "0": "251",
                                    "1": "233093",
                                    "2": "233093",
                                    "3": "267087",
                                    "4": "99",
                                    "5": "039480001X",
                                    "6": "9780394800010",
                                    "7": "Dr. Seuss",
                                    "8": "1957",
                                    "9": "The Cat in the Hat",
                                    "10": "The Cat in the Hat",
                                    "11": "eng",
                                    "12": "4.15",
                                    "13": "314016",
                                    "14": "317182",
                                    "15": "4299",
                                    "16": "6179",
                                    "17": "14497",
                                    "18": "57850",
                                    "19": "85944",
                                    "20": "152712",
                                    "21": "https://images.gr-assets.com/books/1468890477m/233093.jpg",
                                    "22": "https://images.gr-assets.com/books/1468890477s/233093.jpg"
                                },
                                {
                                    "0": "358",
                                    "1": "191139",
                                    "2": "191139",
                                    "3": "2125304",
                                    "4": "40",
                                    "5": "679805273",
                                    "6": "9780679805270",
                                    "7": "Dr. Seuss",
                                    "8": "1990",
                                    "9": "Oh, the Places You'll Go!",
                                    "10": "Oh, The Places You'll Go!",
                                    "11": "en-US",
                                    "12": "4.34",
                                    "13": "257260",
                                    "14": "260002",
                                    "15": "4021",
                                    "16": "3615",
                                    "17": "8150",
                                    "18": "33869",
                                    "19": "63795",
                                    "20": "150573",
                                    "21": "https://images.gr-assets.com/books/1421708635m/191139.jpg",
                                    "22": "https://images.gr-assets.com/books/1421708635s/191139.jpg"
                                },
                                {
                                    "0": "364",
                                    "1": "113946",
                                    "2": "113946",
                                    "3": "267076",
                                    "4": "72",
                                    "5": "7173040",
                                    "6": "9780007173040",
                                    "7": "Dr. Seuss",
                                    "8": "1957",
                                    "9": "How the Grinch Stole Christmas!",
                                    "10": "How the Grinch Stole Christmas!",
                                    "11": "eng",
                                    "12": "4.36",
                                    "13": "250602",
                                    "14": "256127",
                                    "15": "2204",
                                    "16": "3438",
                                    "17": "7227",
                                    "18": "32673",
                                    "19": "63395",
                                    "20": "149394",
                                    "21": "https://images.gr-assets.com/books/1327958149m/113946.jpg",
                                    "22": "https://images.gr-assets.com/books/1327958149s/113946.jpg"
                                },
                                {
                                    "0": "391",
                                    "1": "7784",
                                    "2": "7784",
                                    "3": "886002",
                                    "4": "40",
                                    "5": "679889108",
                                    "6": "9780679889110",
                                    "7": "Dr. Seuss",
                                    "8": "1971",
                                    "9": "The Lorax",
                                    "10": "The Lorax",
                                    "11": "eng",
                                    "12": "4.35",
                                    "13": "226564",
                                    "14": "230363",
                                    "15": "3231",
                                    "16": "3193",
                                    "17": "6884",
                                    "18": "29815",
                                    "19": "57259",
                                    "20": "133212",
                                    "21": "https://images.gr-assets.com/books/1327879938m/7784.jpg",
                                    "22": "https://images.gr-assets.com/books/1327879938s/7784.jpg"
                                },
                                {
                                    "0": "798",
                                    "1": "7770",
                                    "2": "7770",
                                    "3": "98895",
                                    "4": "49",
                                    "5": "7173687",
                                    "6": "9780007173690",
                                    "7": "Dr. Seuss",
                                    "8": "1960",
                                    "9": "One Fish, Two Fish, Red Fish, Blue Fish",
                                    "10": "One Fish, Two Fish, Red Fish, Blue Fish",
                                    "11": "NULL",
                                    "12": "4.12",
                                    "13": "117582",
                                    "14": "122653",
                                    "15": "2074",
                                    "16": "2153",
                                    "17": "5979",
                                    "18": "24401",
                                    "19": "32449",
                                    "20": "57671",
                                    "21": "https://s.gr-assets.com/assets/nophoto/book/111x148-bcc042a9c91a29c1d680899eff700a03.png",
                                    "22": "https://s.gr-assets.com/assets/nophoto/book/50x75-a91bf249278a81aabab721ef782c4a74.png"
                                },
                                {
                                    "0": "1348",
                                    "1": "7779",
                                    "2": "7779",
                                    "3": "933973",
                                    "4": "37",
                                    "5": "679800034",
                                    "6": "9780679800030",
                                    "7": "Dr. Seuss",
                                    "8": "1954",
                                    "9": "Horton Hears a Who!",
                                    "10": "Horton Hears a Who!",
                                    "11": "eng",
                                    "12": "4.16",
                                    "13": "80883",
                                    "14": "83229",
                                    "15": "1122",
                                    "16": "1149",
                                    "17": "3284",
                                    "18": "15440",
                                    "19": "24307",
                                    "20": "39049",
                                    "21": "https://images.gr-assets.com/books/1327924655m/7779.jpg",
                                    "22": "https://images.gr-assets.com/books/1327924655s/7779.jpg"
                                },
                                {
                                    "0": "2095",
                                    "1": "105549",
                                    "2": "105549",
                                    "3": "2736871",
                                    "4": "18",
                                    "5": "7158505",
                                    "6": "9780007158510",
                                    "7": "Dr. Seuss",
                                    "8": "1961",
                                    "9": "The Sneetches and Other Stories",
                                    "10": "The Sneetches and Other Stories",
                                    "11": "en-US",
                                    "12": "4.31",
                                    "13": "52954",
                                    "14": "55199",
                                    "15": "809",
                                    "16": "634",
                                    "17": "1516",
                                    "18": "8024",
                                    "19": "14925",
                                    "20": "30100",
                                    "21": "https://s.gr-assets.com/assets/nophoto/book/111x148-bcc042a9c91a29c1d680899eff700a03.png",
                                    "22": "https://s.gr-assets.com/assets/nophoto/book/50x75-a91bf249278a81aabab721ef782c4a74.png"
                                },
                                {
                                    "0": "2512",
                                    "1": "105552",
                                    "2": "105552",
                                    "3": "2363835",
                                    "4": "25",
                                    "5": "7169914",
                                    "6": "9780007169920",
                                    "7": "Dr. Seuss",
                                    "8": "1970",
                                    "9": "Mr. Brown Can Moo! Can You?",
                                    "10": "Mr. Brown Can Moo! Can You?",
                                    "11": "en-US",
                                    "12": "4.11",
                                    "13": "41437",
                                    "14": "43269",
                                    "15": "626",
                                    "16": "561",
                                    "17": "2227",
                                    "18": "9067",
                                    "19": "11245",
                                    "20": "20169",
                                    "21": "https://s.gr-assets.com/assets/nophoto/book/111x148-bcc042a9c91a29c1d680899eff700a03.png",
                                    "22": "https://s.gr-assets.com/assets/nophoto/book/50x75-a91bf249278a81aabab721ef782c4a74.png"
                                },
                                {
                                    "0": "3047",
                                    "1": "105551",
                                    "2": "105551",
                                    "3": "2736849",
                                    "4": "33",
                                    "5": "7158475",
                                    "6": "9780007158480",
                                    "7": "Dr. Seuss",
                                    "8": "1965",
                                    "9": "Fox in Socks",
                                    "10": "Fox in Socks",
                                    "11": "eng",
                                    "12": "4.04",
                                    "13": "40369",
                                    "14": "44084",
                                    "15": "1044",
                                    "16": "880",
                                    "17": "2670",
                                    "18": "9636",
                                    "19": "11377",
                                    "20": "19521",
                                    "21": "https://s.gr-assets.com/assets/nophoto/book/111x148-bcc042a9c91a29c1d680899eff700a03.png",
                                    "22": "https://s.gr-assets.com/assets/nophoto/book/50x75-a91bf249278a81aabab721ef782c4a74.png"
                                },
                                {
                                    "0": "3274",
                                    "1": "206962",
                                    "2": "206962",
                                    "3": "894153",
                                    "4": "32",
                                    "5": "7158491",
                                    "6": "9780007158490",
                                    "7": "Dr. Seuss",
                                    "8": "1963",
                                    "9": "Hop on Pop",
                                    "10": "Hop On Pop",
                                    "11": "eng",
                                    "12": "3.95",
                                    "13": "37324",
                                    "14": "40069",
                                    "15": "1023",
                                    "16": "689",
                                    "17": "2570",
                                    "18": "10318",
                                    "19": "10812",
                                    "20": "15680",
                                    "21": "https://images.gr-assets.com/books/1327947739m/206962.jpg",
                                    "22": "https://images.gr-assets.com/books/1327947739s/206962.jpg"
                                },
                                {
                                    "0": "3363",
                                    "1": "7769",
                                    "2": "17797344",
                                    "3": "1603647",
                                    "4": "39",
                                    "5": "679882812",
                                    "6": "9780679882820",
                                    "7": "Dr. Seuss",
                                    "8": "1963",
                                    "9": "NULL",
                                    "10": "Dr. Seuss's ABC: An Amazing Alphabet Book! (Bright and Early Board Books)",
                                    "11": "eng",
                                    "12": "4.07",
                                    "13": "27116",
                                    "14": "35270",
                                    "15": "1103",
                                    "16": "722",
                                    "17": "2069",
                                    "18": "7434",
                                    "19": "8845",
                                    "20": "16200",
                                    "21": "https://s.gr-assets.com/assets/nophoto/book/111x148-bcc042a9c91a29c1d680899eff700a03.png",
                                    "22": "https://s.gr-assets.com/assets/nophoto/book/50x75-a91bf249278a81aabab721ef782c4a74.png"
                                },
                                {
                                    "0": "4877",
                                    "1": "11301",
                                    "2": "11301",
                                    "3": "13809",
                                    "4": "30",
                                    "5": "7175191",
                                    "6": "9780007175190",
                                    "7": "Dr. Seuss",
                                    "8": "1940",
                                    "9": "Horton Hatches the Egg",
                                    "10": "Horton Hatches the Egg",
                                    "11": "eng",
                                    "12": "4.14",
                                    "13": "29676",
                                    "14": "30959",
                                    "15": "580",
                                    "16": "588",
                                    "17": "1341",
                                    "18": "5981",
                                    "19": "8275",
                                    "20": "14774",
                                    "21": "https://images.gr-assets.com/books/1408927129m/11301.jpg",
                                    "22": "https://images.gr-assets.com/books/1408927129s/11301.jpg"
                                },
                                {
                                    "0": "5265",
                                    "1": "105548",
                                    "2": "105548",
                                    "3": "519772",
                                    "4": "26",
                                    "5": "679882804",
                                    "6": "9780679882800",
                                    "7": "Dr. Seuss",
                                    "8": "1968",
                                    "9": "The Foot Book: Dr. Seuss's Wacky Book of Opposites (Bright & Early Board Books)",
                                    "10": "The Foot Book: Dr. Seuss's Wacky Book of Opposites (Bright and Early Board Books)",
                                    "11": "eng",
                                    "12": "3.99",
                                    "13": "22268",
                                    "14": "23267",
                                    "15": "761",
                                    "16": "400",
                                    "17": "1422",
                                    "18": "5816",
                                    "19": "6002",
                                    "20": "9627",
                                    "21": "https://s.gr-assets.com/assets/nophoto/book/111x148-bcc042a9c91a29c1d680899eff700a03.png",
                                    "22": "https://s.gr-assets.com/assets/nophoto/book/50x75-a91bf249278a81aabab721ef782c4a74.png"
                                },
                                {
                                    "0": "5303",
                                    "1": "310272",
                                    "2": "310272",
                                    "3": "2069970",
                                    "4": "25",
                                    "5": "7169957",
                                    "6": "9780007169960",
                                    "7": "Dr. Seuss",
                                    "8": "1974",
                                    "9": "There's a Wocket in My Pocket",
                                    "10": "There's a Wocket in My Pocket!",
                                    "11": "en-GB",
                                    "12": "4.02",
                                    "13": "23852",
                                    "14": "25489",
                                    "15": "652",
                                    "16": "458",
                                    "17": "1492",
                                    "18": "5936",
                                    "19": "6835",
                                    "20": "10768",
                                    "21": "https://images.gr-assets.com/books/1327448521m/310272.jpg",
                                    "22": "https://images.gr-assets.com/books/1327448521s/310272.jpg"
                                },
                                {
                                    "0": "5446",
                                    "1": "420404",
                                    "2": "420404",
                                    "3": "40370",
                                    "4": "23",
                                    "5": "394900871",
                                    "6": "9780394900870",
                                    "7": "Dr. Seuss",
                                    "8": "1958",
                                    "9": "Yertle the Turtle (Classic Seuss)",
                                    "10": "Yertle the Turtle and Other Stories",
                                    "11": "eng",
                                    "12": "4.13",
                                    "13": "24972",
                                    "14": "26496",
                                    "15": "480",
                                    "16": "393",
                                    "17": "1074",
                                    "18": "5364",
                                    "19": "7608",
                                    "20": "12057",
                                    "21": "https://s.gr-assets.com/assets/nophoto/book/111x148-bcc042a9c91a29c1d680899eff700a03.png",
                                    "22": "https://s.gr-assets.com/assets/nophoto/book/50x75-a91bf249278a81aabab721ef782c4a74.png"
                                },
                                {
                                    "0": "6334",
                                    "1": "667234",
                                    "2": "667234",
                                    "3": "2244771",
                                    "4": "36",
                                    "5": "394800028",
                                    "6": "9780394800030",
                                    "7": "Dr. Seuss",
                                    "8": "1958",
                                    "9": "The Cat in the Hat Comes Back",
                                    "10": "The Cat in the Hat Comes Back",
                                    "11": "en-US",
                                    "12": "3.83",
                                    "13": "22229",
                                    "14": "22712",
                                    "15": "432",
                                    "16": "517",
                                    "17": "1886",
                                    "18": "6324",
                                    "19": "6309",
                                    "20": "7676",
                                    "21": "https://images.gr-assets.com/books/1332799738m/667234.jpg",
                                    "22": "https://images.gr-assets.com/books/1332799738s/667234.jpg"
                                },
                                {
                                    "0": "7611",
                                    "1": "28351",
                                    "2": "28351",
                                    "3": "1579656",
                                    "4": "25",
                                    "5": "7169922",
                                    "6": "9780007169920",
                                    "7": "Dr. Seuss",
                                    "8": "1937",
                                    "9": "And to Think That I Saw It on Mulberry Street",
                                    "10": "And to Think That I Saw it on Mulberry Street",
                                    "11": "en-US",
                                    "12": "3.99",
                                    "13": "17584",
                                    "14": "19213",
                                    "15": "508",
                                    "16": "251",
                                    "17": "1069",
                                    "18": "4766",
                                    "19": "5675",
                                    "20": "7452",
                                    "21": "https://s.gr-assets.com/assets/nophoto/book/111x148-bcc042a9c91a29c1d680899eff700a03.png",
                                    "22": "https://s.gr-assets.com/assets/nophoto/book/50x75-a91bf249278a81aabab721ef782c4a74.png"
                                },
                                {
                                    "0": "9698",
                                    "1": "7785",
                                    "2": "7785",
                                    "3": "2333951",
                                    "4": "16",
                                    "5": "7158513",
                                    "6": "9780007158520",
                                    "7": "Dr. Seuss",
                                    "8": "1978",
                                    "9": "I Can Read with My Eyes Shut!",
                                    "10": "I Can Read With My Eyes Shut!",
                                    "11": "en-GB",
                                    "12": "4.17",
                                    "13": "13821",
                                    "14": "14465",
                                    "15": "437",
                                    "16": "164",
                                    "17": "615",
                                    "18": "2894",
                                    "19": "3787",
                                    "20": "7005",
                                    "21": "https://s.gr-assets.com/assets/nophoto/book/111x148-bcc042a9c91a29c1d680899eff700a03.png",
                                    "22": "https://s.gr-assets.com/assets/nophoto/book/50x75-a91bf249278a81aabab721ef782c4a74.png"
                                }
                            ]
                        },
                        "text/html": [
                            "<table>",
                            "<tr><th>id</th><th>book_id</th><th>best_book_id</th><th>work_id</th><th>books_count</th><th>isbn</th><th>isbn13</th><th>authors</th><th>original_publication_year</th><th>original_title</th><th>title</th><th>language_code</th><th>average_rating</th><th>ratings_count</th><th>work_ratings_count</th><th>work_text_reviews_count</th><th>ratings_1</th><th>ratings_2</th><th>ratings_3</th><th>ratings_4</th><th>ratings_5</th><th>image_url</th><th>small_image_url</th></tr>",
                            "<tr><td>251</td><td>233093</td><td>233093</td><td>267087</td><td>99</td><td>039480001X</td><td>9780394800010</td><td>Dr. Seuss</td><td>1957</td><td>The Cat in the Hat</td><td>The Cat in the Hat</td><td>eng</td><td>4.15</td><td>314016</td><td>317182</td><td>4299</td><td>6179</td><td>14497</td><td>57850</td><td>85944</td><td>152712</td><td>https://images.gr-assets.com/books/1468890477m/233093.jpg</td><td>https://images.gr-assets.com/books/1468890477s/233093.jpg</td></tr>",
                            "<tr><td>358</td><td>191139</td><td>191139</td><td>2125304</td><td>40</td><td>679805273</td><td>9780679805270</td><td>Dr. Seuss</td><td>1990</td><td>Oh, the Places You'll Go!</td><td>Oh, The Places You'll Go!</td><td>en-US</td><td>4.34</td><td>257260</td><td>260002</td><td>4021</td><td>3615</td><td>8150</td><td>33869</td><td>63795</td><td>150573</td><td>https://images.gr-assets.com/books/1421708635m/191139.jpg</td><td>https://images.gr-assets.com/books/1421708635s/191139.jpg</td></tr>",
                            "<tr><td>364</td><td>113946</td><td>113946</td><td>267076</td><td>72</td><td>7173040</td><td>9780007173040</td><td>Dr. Seuss</td><td>1957</td><td>How the Grinch Stole Christmas!</td><td>How the Grinch Stole Christmas!</td><td>eng</td><td>4.36</td><td>250602</td><td>256127</td><td>2204</td><td>3438</td><td>7227</td><td>32673</td><td>63395</td><td>149394</td><td>https://images.gr-assets.com/books/1327958149m/113946.jpg</td><td>https://images.gr-assets.com/books/1327958149s/113946.jpg</td></tr>",
                            "<tr><td>391</td><td>7784</td><td>7784</td><td>886002</td><td>40</td><td>679889108</td><td>9780679889110</td><td>Dr. Seuss</td><td>1971</td><td>The Lorax</td><td>The Lorax</td><td>eng</td><td>4.35</td><td>226564</td><td>230363</td><td>3231</td><td>3193</td><td>6884</td><td>29815</td><td>57259</td><td>133212</td><td>https://images.gr-assets.com/books/1327879938m/7784.jpg</td><td>https://images.gr-assets.com/books/1327879938s/7784.jpg</td></tr>",
                            "<tr><td>798</td><td>7770</td><td>7770</td><td>98895</td><td>49</td><td>7173687</td><td>9780007173690</td><td>Dr. Seuss</td><td>1960</td><td>One Fish, Two Fish, Red Fish, Blue Fish</td><td>One Fish, Two Fish, Red Fish, Blue Fish</td><td>NULL</td><td>4.12</td><td>117582</td><td>122653</td><td>2074</td><td>2153</td><td>5979</td><td>24401</td><td>32449</td><td>57671</td><td>https://s.gr-assets.com/assets/nophoto/book/111x148-bcc042a9c91a29c1d680899eff700a03.png</td><td>https://s.gr-assets.com/assets/nophoto/book/50x75-a91bf249278a81aabab721ef782c4a74.png</td></tr>",
                            "<tr><td>1348</td><td>7779</td><td>7779</td><td>933973</td><td>37</td><td>679800034</td><td>9780679800030</td><td>Dr. Seuss</td><td>1954</td><td>Horton Hears a Who!</td><td>Horton Hears a Who!</td><td>eng</td><td>4.16</td><td>80883</td><td>83229</td><td>1122</td><td>1149</td><td>3284</td><td>15440</td><td>24307</td><td>39049</td><td>https://images.gr-assets.com/books/1327924655m/7779.jpg</td><td>https://images.gr-assets.com/books/1327924655s/7779.jpg</td></tr>",
                            "<tr><td>2095</td><td>105549</td><td>105549</td><td>2736871</td><td>18</td><td>7158505</td><td>9780007158510</td><td>Dr. Seuss</td><td>1961</td><td>The Sneetches and Other Stories</td><td>The Sneetches and Other Stories</td><td>en-US</td><td>4.31</td><td>52954</td><td>55199</td><td>809</td><td>634</td><td>1516</td><td>8024</td><td>14925</td><td>30100</td><td>https://s.gr-assets.com/assets/nophoto/book/111x148-bcc042a9c91a29c1d680899eff700a03.png</td><td>https://s.gr-assets.com/assets/nophoto/book/50x75-a91bf249278a81aabab721ef782c4a74.png</td></tr>",
                            "<tr><td>2512</td><td>105552</td><td>105552</td><td>2363835</td><td>25</td><td>7169914</td><td>9780007169920</td><td>Dr. Seuss</td><td>1970</td><td>Mr. Brown Can Moo! Can You?</td><td>Mr. Brown Can Moo! Can You?</td><td>en-US</td><td>4.11</td><td>41437</td><td>43269</td><td>626</td><td>561</td><td>2227</td><td>9067</td><td>11245</td><td>20169</td><td>https://s.gr-assets.com/assets/nophoto/book/111x148-bcc042a9c91a29c1d680899eff700a03.png</td><td>https://s.gr-assets.com/assets/nophoto/book/50x75-a91bf249278a81aabab721ef782c4a74.png</td></tr>",
                            "<tr><td>3047</td><td>105551</td><td>105551</td><td>2736849</td><td>33</td><td>7158475</td><td>9780007158480</td><td>Dr. Seuss</td><td>1965</td><td>Fox in Socks</td><td>Fox in Socks</td><td>eng</td><td>4.04</td><td>40369</td><td>44084</td><td>1044</td><td>880</td><td>2670</td><td>9636</td><td>11377</td><td>19521</td><td>https://s.gr-assets.com/assets/nophoto/book/111x148-bcc042a9c91a29c1d680899eff700a03.png</td><td>https://s.gr-assets.com/assets/nophoto/book/50x75-a91bf249278a81aabab721ef782c4a74.png</td></tr>",
                            "<tr><td>3274</td><td>206962</td><td>206962</td><td>894153</td><td>32</td><td>7158491</td><td>9780007158490</td><td>Dr. Seuss</td><td>1963</td><td>Hop on Pop</td><td>Hop On Pop</td><td>eng</td><td>3.95</td><td>37324</td><td>40069</td><td>1023</td><td>689</td><td>2570</td><td>10318</td><td>10812</td><td>15680</td><td>https://images.gr-assets.com/books/1327947739m/206962.jpg</td><td>https://images.gr-assets.com/books/1327947739s/206962.jpg</td></tr>",
                            "<tr><td>3363</td><td>7769</td><td>17797344</td><td>1603647</td><td>39</td><td>679882812</td><td>9780679882820</td><td>Dr. Seuss</td><td>1963</td><td>NULL</td><td>Dr. Seuss's ABC: An Amazing Alphabet Book! (Bright and Early Board Books)</td><td>eng</td><td>4.07</td><td>27116</td><td>35270</td><td>1103</td><td>722</td><td>2069</td><td>7434</td><td>8845</td><td>16200</td><td>https://s.gr-assets.com/assets/nophoto/book/111x148-bcc042a9c91a29c1d680899eff700a03.png</td><td>https://s.gr-assets.com/assets/nophoto/book/50x75-a91bf249278a81aabab721ef782c4a74.png</td></tr>",
                            "<tr><td>4877</td><td>11301</td><td>11301</td><td>13809</td><td>30</td><td>7175191</td><td>9780007175190</td><td>Dr. Seuss</td><td>1940</td><td>Horton Hatches the Egg</td><td>Horton Hatches the Egg</td><td>eng</td><td>4.14</td><td>29676</td><td>30959</td><td>580</td><td>588</td><td>1341</td><td>5981</td><td>8275</td><td>14774</td><td>https://images.gr-assets.com/books/1408927129m/11301.jpg</td><td>https://images.gr-assets.com/books/1408927129s/11301.jpg</td></tr>",
                            "<tr><td>5265</td><td>105548</td><td>105548</td><td>519772</td><td>26</td><td>679882804</td><td>9780679882800</td><td>Dr. Seuss</td><td>1968</td><td>The Foot Book: Dr. Seuss's Wacky Book of Opposites (Bright &amp; Early Board Books)</td><td>The Foot Book: Dr. Seuss's Wacky Book of Opposites (Bright and Early Board Books)</td><td>eng</td><td>3.99</td><td>22268</td><td>23267</td><td>761</td><td>400</td><td>1422</td><td>5816</td><td>6002</td><td>9627</td><td>https://s.gr-assets.com/assets/nophoto/book/111x148-bcc042a9c91a29c1d680899eff700a03.png</td><td>https://s.gr-assets.com/assets/nophoto/book/50x75-a91bf249278a81aabab721ef782c4a74.png</td></tr>",
                            "<tr><td>5303</td><td>310272</td><td>310272</td><td>2069970</td><td>25</td><td>7169957</td><td>9780007169960</td><td>Dr. Seuss</td><td>1974</td><td>There's a Wocket in My Pocket</td><td>There's a Wocket in My Pocket!</td><td>en-GB</td><td>4.02</td><td>23852</td><td>25489</td><td>652</td><td>458</td><td>1492</td><td>5936</td><td>6835</td><td>10768</td><td>https://images.gr-assets.com/books/1327448521m/310272.jpg</td><td>https://images.gr-assets.com/books/1327448521s/310272.jpg</td></tr>",
                            "<tr><td>5446</td><td>420404</td><td>420404</td><td>40370</td><td>23</td><td>394900871</td><td>9780394900870</td><td>Dr. Seuss</td><td>1958</td><td>Yertle the Turtle (Classic Seuss)</td><td>Yertle the Turtle and Other Stories</td><td>eng</td><td>4.13</td><td>24972</td><td>26496</td><td>480</td><td>393</td><td>1074</td><td>5364</td><td>7608</td><td>12057</td><td>https://s.gr-assets.com/assets/nophoto/book/111x148-bcc042a9c91a29c1d680899eff700a03.png</td><td>https://s.gr-assets.com/assets/nophoto/book/50x75-a91bf249278a81aabab721ef782c4a74.png</td></tr>",
                            "<tr><td>6334</td><td>667234</td><td>667234</td><td>2244771</td><td>36</td><td>394800028</td><td>9780394800030</td><td>Dr. Seuss</td><td>1958</td><td>The Cat in the Hat Comes Back</td><td>The Cat in the Hat Comes Back</td><td>en-US</td><td>3.83</td><td>22229</td><td>22712</td><td>432</td><td>517</td><td>1886</td><td>6324</td><td>6309</td><td>7676</td><td>https://images.gr-assets.com/books/1332799738m/667234.jpg</td><td>https://images.gr-assets.com/books/1332799738s/667234.jpg</td></tr>",
                            "<tr><td>7611</td><td>28351</td><td>28351</td><td>1579656</td><td>25</td><td>7169922</td><td>9780007169920</td><td>Dr. Seuss</td><td>1937</td><td>And to Think That I Saw It on Mulberry Street</td><td>And to Think That I Saw it on Mulberry Street</td><td>en-US</td><td>3.99</td><td>17584</td><td>19213</td><td>508</td><td>251</td><td>1069</td><td>4766</td><td>5675</td><td>7452</td><td>https://s.gr-assets.com/assets/nophoto/book/111x148-bcc042a9c91a29c1d680899eff700a03.png</td><td>https://s.gr-assets.com/assets/nophoto/book/50x75-a91bf249278a81aabab721ef782c4a74.png</td></tr>",
                            "<tr><td>9698</td><td>7785</td><td>7785</td><td>2333951</td><td>16</td><td>7158513</td><td>9780007158520</td><td>Dr. Seuss</td><td>1978</td><td>I Can Read with My Eyes Shut!</td><td>I Can Read With My Eyes Shut!</td><td>en-GB</td><td>4.17</td><td>13821</td><td>14465</td><td>437</td><td>164</td><td>615</td><td>2894</td><td>3787</td><td>7005</td><td>https://s.gr-assets.com/assets/nophoto/book/111x148-bcc042a9c91a29c1d680899eff700a03.png</td><td>https://s.gr-assets.com/assets/nophoto/book/50x75-a91bf249278a81aabab721ef782c4a74.png</td></tr>",
                            "</table>"
                        ]
                    }
                }
            ],
            "execution_count": 24
        },
        {
            "cell_type": "code",
            "source": [
                "USE BooksDB\r\n",
                "SELECT * FROM books WHERE authors IN ('Dr. Seuss') and original_publication_year >1960"
            ],
            "metadata": {
                "azdata_cell_guid": "3d99bb96-06cb-4681-b4e6-10faa352e5e6",
                "language": "sql"
            },
            "outputs": [
                {
                    "output_type": "display_data",
                    "data": {
                        "text/html": "(10 rows affected)"
                    },
                    "metadata": {}
                },
                {
                    "output_type": "display_data",
                    "data": {
                        "text/html": "Total execution time: 00:00:00.098"
                    },
                    "metadata": {}
                },
                {
                    "output_type": "execute_result",
                    "metadata": {},
                    "execution_count": 25,
                    "data": {
                        "application/vnd.dataresource+json": {
                            "schema": {
                                "fields": [
                                    {
                                        "name": "id"
                                    },
                                    {
                                        "name": "book_id"
                                    },
                                    {
                                        "name": "best_book_id"
                                    },
                                    {
                                        "name": "work_id"
                                    },
                                    {
                                        "name": "books_count"
                                    },
                                    {
                                        "name": "isbn"
                                    },
                                    {
                                        "name": "isbn13"
                                    },
                                    {
                                        "name": "authors"
                                    },
                                    {
                                        "name": "original_publication_year"
                                    },
                                    {
                                        "name": "original_title"
                                    },
                                    {
                                        "name": "title"
                                    },
                                    {
                                        "name": "language_code"
                                    },
                                    {
                                        "name": "average_rating"
                                    },
                                    {
                                        "name": "ratings_count"
                                    },
                                    {
                                        "name": "work_ratings_count"
                                    },
                                    {
                                        "name": "work_text_reviews_count"
                                    },
                                    {
                                        "name": "ratings_1"
                                    },
                                    {
                                        "name": "ratings_2"
                                    },
                                    {
                                        "name": "ratings_3"
                                    },
                                    {
                                        "name": "ratings_4"
                                    },
                                    {
                                        "name": "ratings_5"
                                    },
                                    {
                                        "name": "image_url"
                                    },
                                    {
                                        "name": "small_image_url"
                                    }
                                ]
                            },
                            "data": [
                                {
                                    "0": "358",
                                    "1": "191139",
                                    "2": "191139",
                                    "3": "2125304",
                                    "4": "40",
                                    "5": "679805273",
                                    "6": "9780679805270",
                                    "7": "Dr. Seuss",
                                    "8": "1990",
                                    "9": "Oh, the Places You'll Go!",
                                    "10": "Oh, The Places You'll Go!",
                                    "11": "en-US",
                                    "12": "4.34",
                                    "13": "257260",
                                    "14": "260002",
                                    "15": "4021",
                                    "16": "3615",
                                    "17": "8150",
                                    "18": "33869",
                                    "19": "63795",
                                    "20": "150573",
                                    "21": "https://images.gr-assets.com/books/1421708635m/191139.jpg",
                                    "22": "https://images.gr-assets.com/books/1421708635s/191139.jpg"
                                },
                                {
                                    "0": "391",
                                    "1": "7784",
                                    "2": "7784",
                                    "3": "886002",
                                    "4": "40",
                                    "5": "679889108",
                                    "6": "9780679889110",
                                    "7": "Dr. Seuss",
                                    "8": "1971",
                                    "9": "The Lorax",
                                    "10": "The Lorax",
                                    "11": "eng",
                                    "12": "4.35",
                                    "13": "226564",
                                    "14": "230363",
                                    "15": "3231",
                                    "16": "3193",
                                    "17": "6884",
                                    "18": "29815",
                                    "19": "57259",
                                    "20": "133212",
                                    "21": "https://images.gr-assets.com/books/1327879938m/7784.jpg",
                                    "22": "https://images.gr-assets.com/books/1327879938s/7784.jpg"
                                },
                                {
                                    "0": "2095",
                                    "1": "105549",
                                    "2": "105549",
                                    "3": "2736871",
                                    "4": "18",
                                    "5": "7158505",
                                    "6": "9780007158510",
                                    "7": "Dr. Seuss",
                                    "8": "1961",
                                    "9": "The Sneetches and Other Stories",
                                    "10": "The Sneetches and Other Stories",
                                    "11": "en-US",
                                    "12": "4.31",
                                    "13": "52954",
                                    "14": "55199",
                                    "15": "809",
                                    "16": "634",
                                    "17": "1516",
                                    "18": "8024",
                                    "19": "14925",
                                    "20": "30100",
                                    "21": "https://s.gr-assets.com/assets/nophoto/book/111x148-bcc042a9c91a29c1d680899eff700a03.png",
                                    "22": "https://s.gr-assets.com/assets/nophoto/book/50x75-a91bf249278a81aabab721ef782c4a74.png"
                                },
                                {
                                    "0": "2512",
                                    "1": "105552",
                                    "2": "105552",
                                    "3": "2363835",
                                    "4": "25",
                                    "5": "7169914",
                                    "6": "9780007169920",
                                    "7": "Dr. Seuss",
                                    "8": "1970",
                                    "9": "Mr. Brown Can Moo! Can You?",
                                    "10": "Mr. Brown Can Moo! Can You?",
                                    "11": "en-US",
                                    "12": "4.11",
                                    "13": "41437",
                                    "14": "43269",
                                    "15": "626",
                                    "16": "561",
                                    "17": "2227",
                                    "18": "9067",
                                    "19": "11245",
                                    "20": "20169",
                                    "21": "https://s.gr-assets.com/assets/nophoto/book/111x148-bcc042a9c91a29c1d680899eff700a03.png",
                                    "22": "https://s.gr-assets.com/assets/nophoto/book/50x75-a91bf249278a81aabab721ef782c4a74.png"
                                },
                                {
                                    "0": "3047",
                                    "1": "105551",
                                    "2": "105551",
                                    "3": "2736849",
                                    "4": "33",
                                    "5": "7158475",
                                    "6": "9780007158480",
                                    "7": "Dr. Seuss",
                                    "8": "1965",
                                    "9": "Fox in Socks",
                                    "10": "Fox in Socks",
                                    "11": "eng",
                                    "12": "4.04",
                                    "13": "40369",
                                    "14": "44084",
                                    "15": "1044",
                                    "16": "880",
                                    "17": "2670",
                                    "18": "9636",
                                    "19": "11377",
                                    "20": "19521",
                                    "21": "https://s.gr-assets.com/assets/nophoto/book/111x148-bcc042a9c91a29c1d680899eff700a03.png",
                                    "22": "https://s.gr-assets.com/assets/nophoto/book/50x75-a91bf249278a81aabab721ef782c4a74.png"
                                },
                                {
                                    "0": "3274",
                                    "1": "206962",
                                    "2": "206962",
                                    "3": "894153",
                                    "4": "32",
                                    "5": "7158491",
                                    "6": "9780007158490",
                                    "7": "Dr. Seuss",
                                    "8": "1963",
                                    "9": "Hop on Pop",
                                    "10": "Hop On Pop",
                                    "11": "eng",
                                    "12": "3.95",
                                    "13": "37324",
                                    "14": "40069",
                                    "15": "1023",
                                    "16": "689",
                                    "17": "2570",
                                    "18": "10318",
                                    "19": "10812",
                                    "20": "15680",
                                    "21": "https://images.gr-assets.com/books/1327947739m/206962.jpg",
                                    "22": "https://images.gr-assets.com/books/1327947739s/206962.jpg"
                                },
                                {
                                    "0": "3363",
                                    "1": "7769",
                                    "2": "17797344",
                                    "3": "1603647",
                                    "4": "39",
                                    "5": "679882812",
                                    "6": "9780679882820",
                                    "7": "Dr. Seuss",
                                    "8": "1963",
                                    "9": "NULL",
                                    "10": "Dr. Seuss's ABC: An Amazing Alphabet Book! (Bright and Early Board Books)",
                                    "11": "eng",
                                    "12": "4.07",
                                    "13": "27116",
                                    "14": "35270",
                                    "15": "1103",
                                    "16": "722",
                                    "17": "2069",
                                    "18": "7434",
                                    "19": "8845",
                                    "20": "16200",
                                    "21": "https://s.gr-assets.com/assets/nophoto/book/111x148-bcc042a9c91a29c1d680899eff700a03.png",
                                    "22": "https://s.gr-assets.com/assets/nophoto/book/50x75-a91bf249278a81aabab721ef782c4a74.png"
                                },
                                {
                                    "0": "5265",
                                    "1": "105548",
                                    "2": "105548",
                                    "3": "519772",
                                    "4": "26",
                                    "5": "679882804",
                                    "6": "9780679882800",
                                    "7": "Dr. Seuss",
                                    "8": "1968",
                                    "9": "The Foot Book: Dr. Seuss's Wacky Book of Opposites (Bright & Early Board Books)",
                                    "10": "The Foot Book: Dr. Seuss's Wacky Book of Opposites (Bright and Early Board Books)",
                                    "11": "eng",
                                    "12": "3.99",
                                    "13": "22268",
                                    "14": "23267",
                                    "15": "761",
                                    "16": "400",
                                    "17": "1422",
                                    "18": "5816",
                                    "19": "6002",
                                    "20": "9627",
                                    "21": "https://s.gr-assets.com/assets/nophoto/book/111x148-bcc042a9c91a29c1d680899eff700a03.png",
                                    "22": "https://s.gr-assets.com/assets/nophoto/book/50x75-a91bf249278a81aabab721ef782c4a74.png"
                                },
                                {
                                    "0": "5303",
                                    "1": "310272",
                                    "2": "310272",
                                    "3": "2069970",
                                    "4": "25",
                                    "5": "7169957",
                                    "6": "9780007169960",
                                    "7": "Dr. Seuss",
                                    "8": "1974",
                                    "9": "There's a Wocket in My Pocket",
                                    "10": "There's a Wocket in My Pocket!",
                                    "11": "en-GB",
                                    "12": "4.02",
                                    "13": "23852",
                                    "14": "25489",
                                    "15": "652",
                                    "16": "458",
                                    "17": "1492",
                                    "18": "5936",
                                    "19": "6835",
                                    "20": "10768",
                                    "21": "https://images.gr-assets.com/books/1327448521m/310272.jpg",
                                    "22": "https://images.gr-assets.com/books/1327448521s/310272.jpg"
                                },
                                {
                                    "0": "9698",
                                    "1": "7785",
                                    "2": "7785",
                                    "3": "2333951",
                                    "4": "16",
                                    "5": "7158513",
                                    "6": "9780007158520",
                                    "7": "Dr. Seuss",
                                    "8": "1978",
                                    "9": "I Can Read with My Eyes Shut!",
                                    "10": "I Can Read With My Eyes Shut!",
                                    "11": "en-GB",
                                    "12": "4.17",
                                    "13": "13821",
                                    "14": "14465",
                                    "15": "437",
                                    "16": "164",
                                    "17": "615",
                                    "18": "2894",
                                    "19": "3787",
                                    "20": "7005",
                                    "21": "https://s.gr-assets.com/assets/nophoto/book/111x148-bcc042a9c91a29c1d680899eff700a03.png",
                                    "22": "https://s.gr-assets.com/assets/nophoto/book/50x75-a91bf249278a81aabab721ef782c4a74.png"
                                }
                            ]
                        },
                        "text/html": [
                            "<table>",
                            "<tr><th>id</th><th>book_id</th><th>best_book_id</th><th>work_id</th><th>books_count</th><th>isbn</th><th>isbn13</th><th>authors</th><th>original_publication_year</th><th>original_title</th><th>title</th><th>language_code</th><th>average_rating</th><th>ratings_count</th><th>work_ratings_count</th><th>work_text_reviews_count</th><th>ratings_1</th><th>ratings_2</th><th>ratings_3</th><th>ratings_4</th><th>ratings_5</th><th>image_url</th><th>small_image_url</th></tr>",
                            "<tr><td>358</td><td>191139</td><td>191139</td><td>2125304</td><td>40</td><td>679805273</td><td>9780679805270</td><td>Dr. Seuss</td><td>1990</td><td>Oh, the Places You'll Go!</td><td>Oh, The Places You'll Go!</td><td>en-US</td><td>4.34</td><td>257260</td><td>260002</td><td>4021</td><td>3615</td><td>8150</td><td>33869</td><td>63795</td><td>150573</td><td>https://images.gr-assets.com/books/1421708635m/191139.jpg</td><td>https://images.gr-assets.com/books/1421708635s/191139.jpg</td></tr>",
                            "<tr><td>391</td><td>7784</td><td>7784</td><td>886002</td><td>40</td><td>679889108</td><td>9780679889110</td><td>Dr. Seuss</td><td>1971</td><td>The Lorax</td><td>The Lorax</td><td>eng</td><td>4.35</td><td>226564</td><td>230363</td><td>3231</td><td>3193</td><td>6884</td><td>29815</td><td>57259</td><td>133212</td><td>https://images.gr-assets.com/books/1327879938m/7784.jpg</td><td>https://images.gr-assets.com/books/1327879938s/7784.jpg</td></tr>",
                            "<tr><td>2095</td><td>105549</td><td>105549</td><td>2736871</td><td>18</td><td>7158505</td><td>9780007158510</td><td>Dr. Seuss</td><td>1961</td><td>The Sneetches and Other Stories</td><td>The Sneetches and Other Stories</td><td>en-US</td><td>4.31</td><td>52954</td><td>55199</td><td>809</td><td>634</td><td>1516</td><td>8024</td><td>14925</td><td>30100</td><td>https://s.gr-assets.com/assets/nophoto/book/111x148-bcc042a9c91a29c1d680899eff700a03.png</td><td>https://s.gr-assets.com/assets/nophoto/book/50x75-a91bf249278a81aabab721ef782c4a74.png</td></tr>",
                            "<tr><td>2512</td><td>105552</td><td>105552</td><td>2363835</td><td>25</td><td>7169914</td><td>9780007169920</td><td>Dr. Seuss</td><td>1970</td><td>Mr. Brown Can Moo! Can You?</td><td>Mr. Brown Can Moo! Can You?</td><td>en-US</td><td>4.11</td><td>41437</td><td>43269</td><td>626</td><td>561</td><td>2227</td><td>9067</td><td>11245</td><td>20169</td><td>https://s.gr-assets.com/assets/nophoto/book/111x148-bcc042a9c91a29c1d680899eff700a03.png</td><td>https://s.gr-assets.com/assets/nophoto/book/50x75-a91bf249278a81aabab721ef782c4a74.png</td></tr>",
                            "<tr><td>3047</td><td>105551</td><td>105551</td><td>2736849</td><td>33</td><td>7158475</td><td>9780007158480</td><td>Dr. Seuss</td><td>1965</td><td>Fox in Socks</td><td>Fox in Socks</td><td>eng</td><td>4.04</td><td>40369</td><td>44084</td><td>1044</td><td>880</td><td>2670</td><td>9636</td><td>11377</td><td>19521</td><td>https://s.gr-assets.com/assets/nophoto/book/111x148-bcc042a9c91a29c1d680899eff700a03.png</td><td>https://s.gr-assets.com/assets/nophoto/book/50x75-a91bf249278a81aabab721ef782c4a74.png</td></tr>",
                            "<tr><td>3274</td><td>206962</td><td>206962</td><td>894153</td><td>32</td><td>7158491</td><td>9780007158490</td><td>Dr. Seuss</td><td>1963</td><td>Hop on Pop</td><td>Hop On Pop</td><td>eng</td><td>3.95</td><td>37324</td><td>40069</td><td>1023</td><td>689</td><td>2570</td><td>10318</td><td>10812</td><td>15680</td><td>https://images.gr-assets.com/books/1327947739m/206962.jpg</td><td>https://images.gr-assets.com/books/1327947739s/206962.jpg</td></tr>",
                            "<tr><td>3363</td><td>7769</td><td>17797344</td><td>1603647</td><td>39</td><td>679882812</td><td>9780679882820</td><td>Dr. Seuss</td><td>1963</td><td>NULL</td><td>Dr. Seuss's ABC: An Amazing Alphabet Book! (Bright and Early Board Books)</td><td>eng</td><td>4.07</td><td>27116</td><td>35270</td><td>1103</td><td>722</td><td>2069</td><td>7434</td><td>8845</td><td>16200</td><td>https://s.gr-assets.com/assets/nophoto/book/111x148-bcc042a9c91a29c1d680899eff700a03.png</td><td>https://s.gr-assets.com/assets/nophoto/book/50x75-a91bf249278a81aabab721ef782c4a74.png</td></tr>",
                            "<tr><td>5265</td><td>105548</td><td>105548</td><td>519772</td><td>26</td><td>679882804</td><td>9780679882800</td><td>Dr. Seuss</td><td>1968</td><td>The Foot Book: Dr. Seuss's Wacky Book of Opposites (Bright &amp; Early Board Books)</td><td>The Foot Book: Dr. Seuss's Wacky Book of Opposites (Bright and Early Board Books)</td><td>eng</td><td>3.99</td><td>22268</td><td>23267</td><td>761</td><td>400</td><td>1422</td><td>5816</td><td>6002</td><td>9627</td><td>https://s.gr-assets.com/assets/nophoto/book/111x148-bcc042a9c91a29c1d680899eff700a03.png</td><td>https://s.gr-assets.com/assets/nophoto/book/50x75-a91bf249278a81aabab721ef782c4a74.png</td></tr>",
                            "<tr><td>5303</td><td>310272</td><td>310272</td><td>2069970</td><td>25</td><td>7169957</td><td>9780007169960</td><td>Dr. Seuss</td><td>1974</td><td>There's a Wocket in My Pocket</td><td>There's a Wocket in My Pocket!</td><td>en-GB</td><td>4.02</td><td>23852</td><td>25489</td><td>652</td><td>458</td><td>1492</td><td>5936</td><td>6835</td><td>10768</td><td>https://images.gr-assets.com/books/1327448521m/310272.jpg</td><td>https://images.gr-assets.com/books/1327448521s/310272.jpg</td></tr>",
                            "<tr><td>9698</td><td>7785</td><td>7785</td><td>2333951</td><td>16</td><td>7158513</td><td>9780007158520</td><td>Dr. Seuss</td><td>1978</td><td>I Can Read with My Eyes Shut!</td><td>I Can Read With My Eyes Shut!</td><td>en-GB</td><td>4.17</td><td>13821</td><td>14465</td><td>437</td><td>164</td><td>615</td><td>2894</td><td>3787</td><td>7005</td><td>https://s.gr-assets.com/assets/nophoto/book/111x148-bcc042a9c91a29c1d680899eff700a03.png</td><td>https://s.gr-assets.com/assets/nophoto/book/50x75-a91bf249278a81aabab721ef782c4a74.png</td></tr>",
                            "</table>"
                        ]
                    }
                }
            ],
            "execution_count": 25
        },
        {
            "cell_type": "code",
            "source": [
                "USE BooksDB\r\n",
                "SELECT TOP 10 authors, title FROM books WHERE title like '%holy%'"
            ],
            "metadata": {
                "azdata_cell_guid": "ebcbca7d-a90f-4d02-8e4e-c8d138be2dfb",
                "language": "sql"
            },
            "outputs": [
                {
                    "output_type": "display_data",
                    "data": {
                        "text/html": "(10 rows affected)"
                    },
                    "metadata": {}
                },
                {
                    "output_type": "display_data",
                    "data": {
                        "text/html": "Total execution time: 00:00:00.111"
                    },
                    "metadata": {}
                },
                {
                    "output_type": "execute_result",
                    "metadata": {},
                    "execution_count": 28,
                    "data": {
                        "application/vnd.dataresource+json": {
                            "schema": {
                                "fields": [
                                    {
                                        "name": "authors"
                                    },
                                    {
                                        "name": "title"
                                    }
                                ]
                            },
                            "data": [
                                {
                                    "0": "Anonymous",
                                    "1": "Holy Bible: King James Version"
                                },
                                {
                                    "0": "Gabriel García Márquez, Edith Grossman",
                                    "1": "Memories of My Melancholy Whores"
                                },
                                {
                                    "0": "Anonymous",
                                    "1": "Holy Bible: New International Version"
                                },
                                {
                                    "0": "Francis Chan, Danae Yankoski",
                                    "1": "Forgotten God: Reversing Our Tragic Neglect of the Holy Spirit"
                                },
                                {
                                    "0": "Christopher Moore",
                                    "1": "The Lust Lizard of Melancholy Cove (Pine Cove, #2)"
                                },
                                {
                                    "0": "Tim Burton",
                                    "1": "The Melancholy Death of Oyster Boy and Other Stories"
                                },
                                {
                                    "0": "Anonymous",
                                    "1": "The Holy Bible: English Standard Version"
                                },
                                {
                                    "0": "Noelle Stevenson, Grace Ellis, Shannon Waters, Shannon Watters, Brooke A. Allen, Faith Hicks, Kat Leyh, Brooke Allen, Carolyn Nowak, Various, Carey Pietsch",
                                    "1": "Lumberjanes, Vol. 1: Beware the Kitten Holy"
                                },
                                {
                                    "0": "Sarah Macdonald",
                                    "1": "Holy Cow: An Indian Adventure"
                                },
                                {
                                    "0": "A.W. Tozer",
                                    "1": "The Knowledge of the Holy"
                                }
                            ]
                        },
                        "text/html": [
                            "<table>",
                            "<tr><th>authors</th><th>title</th></tr>",
                            "<tr><td>Anonymous</td><td>Holy Bible: King James Version</td></tr>",
                            "<tr><td>Gabriel García Márquez, Edith Grossman</td><td>Memories of My Melancholy Whores</td></tr>",
                            "<tr><td>Anonymous</td><td>Holy Bible: New International Version</td></tr>",
                            "<tr><td>Francis Chan, Danae Yankoski</td><td>Forgotten God: Reversing Our Tragic Neglect of the Holy Spirit</td></tr>",
                            "<tr><td>Christopher Moore</td><td>The Lust Lizard of Melancholy Cove (Pine Cove, #2)</td></tr>",
                            "<tr><td>Tim Burton</td><td>The Melancholy Death of Oyster Boy and Other Stories</td></tr>",
                            "<tr><td>Anonymous</td><td>The Holy Bible: English Standard Version</td></tr>",
                            "<tr><td>Noelle Stevenson, Grace Ellis, Shannon Waters, Shannon Watters, Brooke A. Allen, Faith Hicks, Kat Leyh, Brooke Allen, Carolyn Nowak, Various, Carey Pietsch</td><td>Lumberjanes, Vol. 1: Beware the Kitten Holy</td></tr>",
                            "<tr><td>Sarah Macdonald</td><td>Holy Cow: An Indian Adventure</td></tr>",
                            "<tr><td>A.W. Tozer</td><td>The Knowledge of the Holy</td></tr>",
                            "</table>"
                        ]
                    }
                }
            ],
            "execution_count": 28
        },
        {
            "cell_type": "code",
            "source": [
                "--Write an SQL query to print details of the Workers whose FIRST_NAME ends with ‘h’ and contains six alphabets.\r\n",
                "\r\n",
                "Use BooksDB\r\n",
                "Select title, authors from books where title like '_____h'"
            ],
            "metadata": {
                "azdata_cell_guid": "6a264bf9-8768-4e20-b4ee-0dad20516355",
                "language": "sql"
            },
            "outputs": [
                {
                    "output_type": "display_data",
                    "data": {
                        "text/html": "(1 row affected)"
                    },
                    "metadata": {}
                },
                {
                    "output_type": "display_data",
                    "data": {
                        "text/html": "Total execution time: 00:00:00.089"
                    },
                    "metadata": {}
                },
                {
                    "output_type": "execute_result",
                    "metadata": {},
                    "execution_count": 33,
                    "data": {
                        "application/vnd.dataresource+json": {
                            "schema": {
                                "fields": [
                                    {
                                        "name": "title"
                                    },
                                    {
                                        "name": "authors"
                                    }
                                ]
                            },
                            "data": [
                                {
                                    "0": "Breath",
                                    "1": "Tim Winton"
                                }
                            ]
                        },
                        "text/html": [
                            "<table>",
                            "<tr><th>title</th><th>authors</th></tr>",
                            "<tr><td>Breath</td><td>Tim Winton</td></tr>",
                            "</table>"
                        ]
                    }
                }
            ],
            "execution_count": 33
        },
        {
            "cell_type": "code",
            "source": [
                "USE BooksDB\r\n",
                "SELECT authors, title, original_publication_year FROM books WHERE original_publication_year >= 2017"
            ],
            "metadata": {
                "language": "sql",
                "azdata_cell_guid": "a77d68d6-1361-4889-ac93-5aa122376277"
            },
            "outputs": [
                {
                    "output_type": "display_data",
                    "data": {
                        "text/html": "(11 rows affected)"
                    },
                    "metadata": {}
                },
                {
                    "output_type": "display_data",
                    "data": {
                        "text/html": "Total execution time: 00:00:00.099"
                    },
                    "metadata": {}
                },
                {
                    "output_type": "execute_result",
                    "metadata": {},
                    "execution_count": 37,
                    "data": {
                        "application/vnd.dataresource+json": {
                            "schema": {
                                "fields": [
                                    {
                                        "name": "authors"
                                    },
                                    {
                                        "name": "title"
                                    },
                                    {
                                        "name": "original_publication_year"
                                    }
                                ]
                            },
                            "data": [
                                {
                                    "0": "Vi Keeland",
                                    "1": "Egomaniac",
                                    "2": "2017"
                                },
                                {
                                    "0": "Neil Gaiman",
                                    "1": "Norse Mythology",
                                    "2": "2017"
                                },
                                {
                                    "0": "Jane Harper",
                                    "1": "The Dry (Aaron Falk, #1)",
                                    "2": "2017"
                                },
                                {
                                    "0": "Sarah J. Maas",
                                    "1": "A Court of Wings and Ruin (A Court of Thorns and Roses, #3)",
                                    "2": "2017"
                                },
                                {
                                    "0": "Victoria Aveyard",
                                    "1": "King's Cage (Red Queen, #3)",
                                    "2": "2017"
                                },
                                {
                                    "0": "J.P. Delaney",
                                    "1": "The Girl Before",
                                    "2": "2017"
                                },
                                {
                                    "0": "Stephanie Garber",
                                    "1": "Caraval",
                                    "2": "2017"
                                },
                                {
                                    "0": "Alice Hoffman",
                                    "1": "Faithful",
                                    "2": "2017"
                                },
                                {
                                    "0": "Sarah Pinborough",
                                    "1": "Behind Her Eyes",
                                    "2": "2017"
                                },
                                {
                                    "0": "George Saunders",
                                    "1": "Lincoln in the Bardo",
                                    "2": "2017"
                                },
                                {
                                    "0": "Angie Thomas",
                                    "1": "The Hate U Give",
                                    "2": "2017"
                                }
                            ]
                        },
                        "text/html": [
                            "<table>",
                            "<tr><th>authors</th><th>title</th><th>original_publication_year</th></tr>",
                            "<tr><td>Vi Keeland</td><td>Egomaniac</td><td>2017</td></tr>",
                            "<tr><td>Neil Gaiman</td><td>Norse Mythology</td><td>2017</td></tr>",
                            "<tr><td>Jane Harper</td><td>The Dry (Aaron Falk, #1)</td><td>2017</td></tr>",
                            "<tr><td>Sarah J. Maas</td><td>A Court of Wings and Ruin (A Court of Thorns and Roses, #3)</td><td>2017</td></tr>",
                            "<tr><td>Victoria Aveyard</td><td>King's Cage (Red Queen, #3)</td><td>2017</td></tr>",
                            "<tr><td>J.P. Delaney</td><td>The Girl Before</td><td>2017</td></tr>",
                            "<tr><td>Stephanie Garber</td><td>Caraval</td><td>2017</td></tr>",
                            "<tr><td>Alice Hoffman</td><td>Faithful</td><td>2017</td></tr>",
                            "<tr><td>Sarah Pinborough</td><td>Behind Her Eyes</td><td>2017</td></tr>",
                            "<tr><td>George Saunders</td><td>Lincoln in the Bardo</td><td>2017</td></tr>",
                            "<tr><td>Angie Thomas</td><td>The Hate U Give</td><td>2017</td></tr>",
                            "</table>"
                        ]
                    }
                }
            ],
            "execution_count": 37
        },
        {
            "cell_type": "code",
            "source": [
                "USE BooksDB\r\n",
                "SELECT authors, title, original_publication_year FROM books WHERE original_publication_year BETWEEN 1965 AND 1966"
            ],
            "metadata": {
                "language": "sql",
                "azdata_cell_guid": "b26467d3-6a41-499c-9788-baa4517f1a99"
            },
            "outputs": [
                {
                    "output_type": "display_data",
                    "data": {
                        "text/html": "(44 rows affected)"
                    },
                    "metadata": {}
                },
                {
                    "output_type": "display_data",
                    "data": {
                        "text/html": "Total execution time: 00:00:00.085"
                    },
                    "metadata": {}
                },
                {
                    "output_type": "execute_result",
                    "metadata": {},
                    "execution_count": 41,
                    "data": {
                        "application/vnd.dataresource+json": {
                            "schema": {
                                "fields": [
                                    {
                                        "name": "authors"
                                    },
                                    {
                                        "name": "title"
                                    },
                                    {
                                        "name": "original_publication_year"
                                    }
                                ]
                            },
                            "data": [
                                {
                                    "0": "Frank Herbert",
                                    "1": "Dune (Dune Chronicles #1)",
                                    "2": "1965"
                                },
                                {
                                    "0": "Truman Capote",
                                    "1": "In Cold Blood",
                                    "2": "1965"
                                },
                                {
                                    "0": "Daniel Keyes",
                                    "1": "Flowers for Algernon",
                                    "2": "1966"
                                },
                                {
                                    "0": "Malcolm X, Alex Haley",
                                    "1": "The Autobiography of Malcolm X",
                                    "2": "1965"
                                },
                                {
                                    "0": "Robert A. Heinlein",
                                    "1": "The Moon is a Harsh Mistress",
                                    "2": "1966"
                                },
                                {
                                    "0": "Tom Stoppard, Henry Popkin",
                                    "1": "Rosencrantz and Guildenstern Are Dead",
                                    "2": "1966"
                                },
                                {
                                    "0": "Thomas Pynchon",
                                    "1": "The Crying of Lot 49",
                                    "2": "1966"
                                },
                                {
                                    "0": "John  Williams, John McGahern",
                                    "1": "Stoner",
                                    "2": "1965"
                                },
                                {
                                    "0": "Beverly Cleary, Louis Darling, Tracy Dockray",
                                    "1": "The Mouse and the Motorcycle (Ralph S. Mouse, #1)",
                                    "2": "1965"
                                },
                                {
                                    "0": "Kurt Vonnegut Jr.",
                                    "1": "God Bless You, Mr. Rosewater",
                                    "2": "1965"
                                },
                                {
                                    "0": "Lloyd Alexander",
                                    "1": "The Black Cauldron (The Chronicles of Prydain #2)",
                                    "2": "1965"
                                },
                                {
                                    "0": "Hunter S. Thompson",
                                    "1": "Hell's Angels: A Strange and Terrible Saga",
                                    "2": "1966"
                                },
                                {
                                    "0": "Jean Rhys",
                                    "1": "Wide Sargasso Sea",
                                    "2": "1966"
                                },
                                {
                                    "0": "John Fowles",
                                    "1": "The Magus",
                                    "2": "1965"
                                },
                                {
                                    "0": "Sylvia Plath",
                                    "1": "Ariel",
                                    "2": "1965"
                                },
                                {
                                    "0": "James Clavell",
                                    "1": "Tai-Pan (Asian Saga, #2)",
                                    "2": "1966"
                                },
                                {
                                    "0": "Dr. Seuss",
                                    "1": "Fox in Socks",
                                    "2": "1965"
                                },
                                {
                                    "0": "Jacqueline Susann",
                                    "1": "Valley of the Dolls",
                                    "2": "1966"
                                },
                                {
                                    "0": "James A. Michener",
                                    "1": "The Source",
                                    "2": "1965"
                                },
                                {
                                    "0": "Margret Rey, H.A. Rey",
                                    "1": "Curious George Goes to the Hospital",
                                    "2": "1966"
                                },
                                {
                                    "0": "Susan Cooper",
                                    "1": "Over Sea, Under Stone (The Dark Is Rising, #1)",
                                    "2": "1965"
                                },
                                {
                                    "0": "Lloyd Alexander",
                                    "1": "The Castle of Llyr (The Chronicles of Prydain #3)",
                                    "2": "1966"
                                },
                                {
                                    "0": "Lilian Jackson Braun",
                                    "1": "The Cat Who Could Read Backwards (Cat Who..., #1)",
                                    "2": "1966"
                                },
                                {
                                    "0": "Philip K. Dick",
                                    "1": "The Three Stigmata of Palmer Eldritch",
                                    "2": "1965"
                                },
                                {
                                    "0": "Bernard Waber",
                                    "1": "Lyle, Lyle, Crocodile",
                                    "2": "1965"
                                },
                                {
                                    "0": "Isaac Asimov",
                                    "1": "Fantastic Voyage",
                                    "2": "1966"
                                },
                                {
                                    "0": "Peter F. Drucker",
                                    "1": "The Effective Executive: The Definitive Guide to Getting the Right Things Done (Harperbusiness Essentials)",
                                    "2": "1966"
                                },
                                {
                                    "0": "Roald Dahl, Quentin Blake",
                                    "1": "The Magic Finger (Young Puffin Developing Reader)",
                                    "2": "1966"
                                },
                                {
                                    "0": "Jerzy Kosiński",
                                    "1": "The Painted Bird",
                                    "2": "1965"
                                },
                                {
                                    "0": "William Blake, David V. Erdman, Harold Bloom",
                                    "1": "The Complete Poetry and Prose",
                                    "2": "1965"
                                },
                                {
                                    "0": "Dorothy Gilman",
                                    "1": "The Unexpected Mrs. Pollifax  (Mrs. Pollifax #1)",
                                    "2": "1966"
                                },
                                {
                                    "0": "Flannery O'Connor, Robert Fitzgerald",
                                    "1": "Everything That Rises Must Converge: Stories",
                                    "2": "1965"
                                },
                                {
                                    "0": "Peggy Parish, Barbara Siebel Thomas",
                                    "1": "Amelia Bedelia and the Surprise Shower",
                                    "2": "1966"
                                },
                                {
                                    "0": "Tayeb Salih, Denys Johnson-Davies",
                                    "1": "Season of Migration to the North",
                                    "2": "1966"
                                },
                                {
                                    "0": "Neil Simon",
                                    "1": "The Odd Couple",
                                    "2": "1965"
                                },
                                {
                                    "0": "Shūsaku Endō, William Johnston",
                                    "1": "Silence",
                                    "2": "1966"
                                },
                                {
                                    "0": "Italo Calvino, William Weaver, Ανταίος Χρυσοστομίδης, Ελευθερία Κοψιδά",
                                    "1": "Cosmicomics",
                                    "2": "1965"
                                },
                                {
                                    "0": "Samad Behrangi",
                                    "1": "ماهی سیاه کوچولو",
                                    "2": "1965"
                                },
                                {
                                    "0": "Charles M. Schulz",
                                    "1": "A Charlie Brown Christmas",
                                    "2": "1965"
                                },
                                {
                                    "0": "Agatha Christie",
                                    "1": "At Bertram's Hotel (Miss Marple, #11)",
                                    "2": "1965"
                                },
                                {
                                    "0": "Alan W. Watts",
                                    "1": "The Book on the Taboo Against Knowing Who You Are",
                                    "2": "1966"
                                },
                                {
                                    "0": "Norman Bridwell",
                                    "1": "Clifford's Halloween",
                                    "2": "1966"
                                },
                                {
                                    "0": "Georgette Heyer",
                                    "1": "Frederica",
                                    "2": "1965"
                                },
                                {
                                    "0": "Larry McMurtry",
                                    "1": "The Last Picture Show",
                                    "2": "1966"
                                }
                            ]
                        },
                        "text/html": [
                            "<table>",
                            "<tr><th>authors</th><th>title</th><th>original_publication_year</th></tr>",
                            "<tr><td>Frank Herbert</td><td>Dune (Dune Chronicles #1)</td><td>1965</td></tr>",
                            "<tr><td>Truman Capote</td><td>In Cold Blood</td><td>1965</td></tr>",
                            "<tr><td>Daniel Keyes</td><td>Flowers for Algernon</td><td>1966</td></tr>",
                            "<tr><td>Malcolm X, Alex Haley</td><td>The Autobiography of Malcolm X</td><td>1965</td></tr>",
                            "<tr><td>Robert A. Heinlein</td><td>The Moon is a Harsh Mistress</td><td>1966</td></tr>",
                            "<tr><td>Tom Stoppard, Henry Popkin</td><td>Rosencrantz and Guildenstern Are Dead</td><td>1966</td></tr>",
                            "<tr><td>Thomas Pynchon</td><td>The Crying of Lot 49</td><td>1966</td></tr>",
                            "<tr><td>John  Williams, John McGahern</td><td>Stoner</td><td>1965</td></tr>",
                            "<tr><td>Beverly Cleary, Louis Darling, Tracy Dockray</td><td>The Mouse and the Motorcycle (Ralph S. Mouse, #1)</td><td>1965</td></tr>",
                            "<tr><td>Kurt Vonnegut Jr.</td><td>God Bless You, Mr. Rosewater</td><td>1965</td></tr>",
                            "<tr><td>Lloyd Alexander</td><td>The Black Cauldron (The Chronicles of Prydain #2)</td><td>1965</td></tr>",
                            "<tr><td>Hunter S. Thompson</td><td>Hell's Angels: A Strange and Terrible Saga</td><td>1966</td></tr>",
                            "<tr><td>Jean Rhys</td><td>Wide Sargasso Sea</td><td>1966</td></tr>",
                            "<tr><td>John Fowles</td><td>The Magus</td><td>1965</td></tr>",
                            "<tr><td>Sylvia Plath</td><td>Ariel</td><td>1965</td></tr>",
                            "<tr><td>James Clavell</td><td>Tai-Pan (Asian Saga, #2)</td><td>1966</td></tr>",
                            "<tr><td>Dr. Seuss</td><td>Fox in Socks</td><td>1965</td></tr>",
                            "<tr><td>Jacqueline Susann</td><td>Valley of the Dolls</td><td>1966</td></tr>",
                            "<tr><td>James A. Michener</td><td>The Source</td><td>1965</td></tr>",
                            "<tr><td>Margret Rey, H.A. Rey</td><td>Curious George Goes to the Hospital</td><td>1966</td></tr>",
                            "<tr><td>Susan Cooper</td><td>Over Sea, Under Stone (The Dark Is Rising, #1)</td><td>1965</td></tr>",
                            "<tr><td>Lloyd Alexander</td><td>The Castle of Llyr (The Chronicles of Prydain #3)</td><td>1966</td></tr>",
                            "<tr><td>Lilian Jackson Braun</td><td>The Cat Who Could Read Backwards (Cat Who..., #1)</td><td>1966</td></tr>",
                            "<tr><td>Philip K. Dick</td><td>The Three Stigmata of Palmer Eldritch</td><td>1965</td></tr>",
                            "<tr><td>Bernard Waber</td><td>Lyle, Lyle, Crocodile</td><td>1965</td></tr>",
                            "<tr><td>Isaac Asimov</td><td>Fantastic Voyage</td><td>1966</td></tr>",
                            "<tr><td>Peter F. Drucker</td><td>The Effective Executive: The Definitive Guide to Getting the Right Things Done (Harperbusiness Essentials)</td><td>1966</td></tr>",
                            "<tr><td>Roald Dahl, Quentin Blake</td><td>The Magic Finger (Young Puffin Developing Reader)</td><td>1966</td></tr>",
                            "<tr><td>Jerzy Kosiński</td><td>The Painted Bird</td><td>1965</td></tr>",
                            "<tr><td>William Blake, David V. Erdman, Harold Bloom</td><td>The Complete Poetry and Prose</td><td>1965</td></tr>",
                            "<tr><td>Dorothy Gilman</td><td>The Unexpected Mrs. Pollifax  (Mrs. Pollifax #1)</td><td>1966</td></tr>",
                            "<tr><td>Flannery O'Connor, Robert Fitzgerald</td><td>Everything That Rises Must Converge: Stories</td><td>1965</td></tr>",
                            "<tr><td>Peggy Parish, Barbara Siebel Thomas</td><td>Amelia Bedelia and the Surprise Shower</td><td>1966</td></tr>",
                            "<tr><td>Tayeb Salih, Denys Johnson-Davies</td><td>Season of Migration to the North</td><td>1966</td></tr>",
                            "<tr><td>Neil Simon</td><td>The Odd Couple</td><td>1965</td></tr>",
                            "<tr><td>Shūsaku Endō, William Johnston</td><td>Silence</td><td>1966</td></tr>",
                            "<tr><td>Italo Calvino, William Weaver, Ανταίος Χρυσοστομίδης, Ελευθερία Κοψιδά</td><td>Cosmicomics</td><td>1965</td></tr>",
                            "<tr><td>Samad Behrangi</td><td>ماهی سیاه کوچولو</td><td>1965</td></tr>",
                            "<tr><td>Charles M. Schulz</td><td>A Charlie Brown Christmas</td><td>1965</td></tr>",
                            "<tr><td>Agatha Christie</td><td>At Bertram's Hotel (Miss Marple, #11)</td><td>1965</td></tr>",
                            "<tr><td>Alan W. Watts</td><td>The Book on the Taboo Against Knowing Who You Are</td><td>1966</td></tr>",
                            "<tr><td>Norman Bridwell</td><td>Clifford's Halloween</td><td>1966</td></tr>",
                            "<tr><td>Georgette Heyer</td><td>Frederica</td><td>1965</td></tr>",
                            "<tr><td>Larry McMurtry</td><td>The Last Picture Show</td><td>1966</td></tr>",
                            "</table>"
                        ]
                    }
                }
            ],
            "execution_count": 41
        },
        {
            "cell_type": "code",
            "source": [
                "USE BooksDB\r\n",
                "SELECT COUNT (*) FROM books WHERE title like '%merry%'"
            ],
            "metadata": {
                "language": "sql",
                "azdata_cell_guid": "e25e37af-2f73-4937-bda1-4eb945fb892a"
            },
            "outputs": [
                {
                    "output_type": "display_data",
                    "data": {
                        "text/html": "(1 row affected)"
                    },
                    "metadata": {}
                },
                {
                    "output_type": "display_data",
                    "data": {
                        "text/html": "Total execution time: 00:00:00.142"
                    },
                    "metadata": {}
                },
                {
                    "output_type": "execute_result",
                    "metadata": {},
                    "execution_count": 42,
                    "data": {
                        "application/vnd.dataresource+json": {
                            "schema": {
                                "fields": [
                                    {
                                        "name": "(No column name)"
                                    }
                                ]
                            },
                            "data": [
                                {
                                    "0": "10"
                                }
                            ]
                        },
                        "text/html": [
                            "<table>",
                            "<tr><th>(No column name)</th></tr>",
                            "<tr><td>10</td></tr>",
                            "</table>"
                        ]
                    }
                }
            ],
            "execution_count": 42
        },
        {
            "cell_type": "code",
            "source": [
                ""
            ],
            "metadata": {
                "language": "sql",
                "azdata_cell_guid": "8e1aebf7-b0b6-4a49-9077-c59188a11d58"
            },
            "outputs": [],
            "execution_count": null
        }
    ]
}